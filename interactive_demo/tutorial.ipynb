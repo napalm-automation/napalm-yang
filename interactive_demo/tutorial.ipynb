{
 "cells": [
  {
   "cell_type": "markdown",
   "metadata": {},
   "source": [
    "# Basics\n",
    "Let's start with some basics, we will use the following objects as the base for the rest of the tutorial."
   ]
  },
  {
   "cell_type": "code",
   "execution_count": 1,
   "metadata": {
    "collapsed": true,
    "deletable": true,
    "editable": true,
    "slideshow": {
     "slide_type": "-"
    }
   },
   "outputs": [],
   "source": [
    "from napalm_base import get_network_driver\n",
    "\n",
    "junos_configuration = {\n",
    "    'hostname': '127.0.0.1',\n",
    "    'username': 'vagrant',\n",
    "    'password': '',\n",
    "    'optional_args': {'port': 12203}\n",
    "}\n",
    "\n",
    "eos_configuration = {\n",
    "    'hostname': '127.0.0.1',\n",
    "    'username': 'vagrant',\n",
    "    'password': 'vagrant',\n",
    "    'optional_args': {'port': 12443}\n",
    "}\n",
    "\n",
    "junos = get_network_driver(\"junos\")\n",
    "junos_device = junos(**junos_configuration)\n",
    "\n",
    "eos = get_network_driver(\"eos\")\n",
    "eos_device = eos(**eos_configuration)"
   ]
  },
  {
   "cell_type": "markdown",
   "metadata": {
    "deletable": true,
    "editable": true,
    "slideshow": {
     "slide_type": "-"
    }
   },
   "source": [
    "# Creating a Binding\n",
    "\n",
    "To work with YANG models you first create a root object with  ``napalm_yang.BaseBinding()`` and then you add as many models as you want with the `add_model` method:"
   ]
  },
  {
   "cell_type": "code",
   "execution_count": 2,
   "metadata": {
    "collapsed": false,
    "deletable": true,
    "editable": true,
    "scrolled": false
   },
   "outputs": [],
   "source": [
    "import pprint\n",
    "import napalm_yang\n",
    "\n",
    "config = napalm_yang.BaseBinding()\n",
    "\n",
    "# Adding models to the object\n",
    "config.add_model(napalm_yang.oc_if.interfaces())\n",
    "config.add_model(napalm_yang.oc_vlan.vlan())"
   ]
  },
  {
   "cell_type": "markdown",
   "metadata": {
    "deletable": true,
    "editable": true
   },
   "source": [
    "At this point, you can use the method ``model_to_text()`` to visualize the binding and the attached models:"
   ]
  },
  {
   "cell_type": "code",
   "execution_count": 3,
   "metadata": {
    "collapsed": false,
    "deletable": true,
    "editable": true
   },
   "outputs": [
    {
     "name": "stdout",
     "output_type": "stream",
     "text": [
      "+-- rw BaseBinding\n",
      "|  +-- rw interfaces\n",
      "|  |  +-- rw interface* [name]\n",
      "|  |  |  +-- rw name?                                       Leafref\n",
      "|  |  |  +-- rw subinterfaces\n",
      "|  |  |  |  +-- rw subinterface* [index]\n",
      "|  |  |  |  |  +-- rw index?                                Leafref\n",
      "|  |  |  |  |  +-- rw vlan\n",
      "|  |  |  |  |  |    \\ [augment] oc-vlan - when: always\n",
      "|  |  |  |  |  |  +-- ro state\n",
      "|  |  |  |  |  |  |  +-- ro vlan_id?                        Union\n",
      "|  |  |  |  |  |  +-- rw config\n",
      "|  |  |  |  |  |  |  +-- rw vlan_id?                        Union\n",
      "|  |  |  |  |  +-- ro state\n",
      "|  |  |  |  |  |  +-- ro index?                             Uint32\n",
      "|  |  |  |  |  |  +-- ro description?                       String\n",
      "|  |  |  |  |  |  +-- ro enabled?                           Boolean\n",
      "|  |  |  |  |  |  +-- ro oper_status                        Enumeration\n",
      "|  |  |  |  |  |  +-- ro name?                              String\n",
      "|  |  |  |  |  |  +-- ro admin_status                       Enumeration\n",
      "|  |  |  |  |  |  +-- ro ifindex?                           Uint32\n",
      "|  |  |  |  |  |  +-- rw counters\n",
      "|  |  |  |  |  |  |  +-- rw in_octets?                      Counter64\n",
      "|  |  |  |  |  |  |  +-- rw in_discards?                    Counter64\n",
      "|  |  |  |  |  |  |  +-- rw last_clear?                     DateAndTime\n",
      "|  |  |  |  |  |  |  +-- rw out_broadcast_pkts?             Counter64\n",
      "|  |  |  |  |  |  |  +-- rw in_broadcast_pkts?              Counter64\n",
      "|  |  |  |  |  |  |  +-- rw in_errors?                      Counter64\n",
      "|  |  |  |  |  |  |  +-- rw out_unicast_pkts?               Counter64\n",
      "|  |  |  |  |  |  |  +-- rw out_multicast_pkts?             Counter64\n",
      "|  |  |  |  |  |  |  +-- rw in_multicast_pkts?              Counter64\n",
      "|  |  |  |  |  |  |  +-- rw in_unicast_pkts?                Counter64\n",
      "|  |  |  |  |  |  |  +-- rw in_unknown_protos?              Counter32\n",
      "|  |  |  |  |  |  |  +-- rw out_discards?                   Counter64\n",
      "|  |  |  |  |  |  |  +-- rw out_errors?                     Counter64\n",
      "|  |  |  |  |  |  |  +-- rw out_octets?                     Counter64\n",
      "|  |  |  |  |  |  +-- ro last_change?                       Timeticks\n",
      "|  |  |  |  |  +-- rw ipv4\n",
      "|  |  |  |  |  |    \\ [augment] oc-ip - when: always\n",
      "|  |  |  |  |  |  +-- rw neighbors\n",
      "|  |  |  |  |  |  |  +-- rw neighbor* [ip]\n",
      "|  |  |  |  |  |  |  |  +-- rw ip?                          Leafref\n",
      "|  |  |  |  |  |  |  |  +-- ro state\n",
      "|  |  |  |  |  |  |  |  |  +-- ro origin?                   NeighborOrigin\n",
      "|  |  |  |  |  |  |  |  |  +-- ro ip?                       Ipv4AddressNoZone\n",
      "|  |  |  |  |  |  |  |  |  +-- ro link_layer_address        PhysAddress\n",
      "|  |  |  |  |  |  |  |  +-- rw config\n",
      "|  |  |  |  |  |  |  |  |  +-- rw ip?                       Ipv4AddressNoZone\n",
      "|  |  |  |  |  |  |  |  |  +-- rw link_layer_address        PhysAddress\n",
      "|  |  |  |  |  |  +-- ro state\n",
      "|  |  |  |  |  |  |  +-- ro enabled?                        Boolean\n",
      "|  |  |  |  |  |  |  +-- ro mtu?                            Uint16\n",
      "|  |  |  |  |  |  +-- rw unnumbered\n",
      "|  |  |  |  |  |  |  +-- ro state\n",
      "|  |  |  |  |  |  |  |  +-- ro enabled?                     Boolean\n",
      "|  |  |  |  |  |  |  +-- rw config\n",
      "|  |  |  |  |  |  |  |  +-- rw enabled?                     Boolean\n",
      "|  |  |  |  |  |  |  +-- rw interface_ref\n",
      "|  |  |  |  |  |  |  |  +-- ro state\n",
      "|  |  |  |  |  |  |  |  |  +-- ro interface?                Leafref\n",
      "|  |  |  |  |  |  |  |  |  +-- ro subinterface?             Leafref\n",
      "|  |  |  |  |  |  |  |  +-- rw config\n",
      "|  |  |  |  |  |  |  |  |  +-- rw interface?                Leafref\n",
      "|  |  |  |  |  |  |  |  |  +-- rw subinterface?             Leafref\n",
      "|  |  |  |  |  |  +-- rw config\n",
      "|  |  |  |  |  |  |  +-- rw enabled?                        Boolean\n",
      "|  |  |  |  |  |  |  +-- rw mtu?                            Uint16\n",
      "|  |  |  |  |  |  +-- rw addresses\n",
      "|  |  |  |  |  |  |  +-- rw address* [ip]\n",
      "|  |  |  |  |  |  |  |  +-- rw ip?                          Leafref\n",
      "|  |  |  |  |  |  |  |  +-- ro state\n",
      "|  |  |  |  |  |  |  |  |  +-- ro origin?                   IpAddressOrigin\n",
      "|  |  |  |  |  |  |  |  |  +-- ro ip?                       Ipv4AddressNoZone\n",
      "|  |  |  |  |  |  |  |  |  +-- ro prefix_length?            Uint8\n",
      "|  |  |  |  |  |  |  |  +-- rw config\n",
      "|  |  |  |  |  |  |  |  |  +-- rw ip?                       Ipv4AddressNoZone\n",
      "|  |  |  |  |  |  |  |  |  +-- rw prefix_length?            Uint8\n",
      "|  |  |  |  |  |  |  |  |  +-- rw secondary?                Boolean\n",
      "|  |  |  |  |  |  |  |  |  |    \\ [augment] napalm-ip - when: always\n",
      "|  |  |  |  |  |  |  |  +-- rw vrrp\n",
      "|  |  |  |  |  |  |  |  |    \\ [augment] oc-ip - when: always\n",
      "|  |  |  |  |  |  |  |  |  +-- rw vrrp_group* [virtual_router_id]\n",
      "|  |  |  |  |  |  |  |  |  |  +-- rw virtual_router_id?     Leafref\n",
      "|  |  |  |  |  |  |  |  |  |  +-- ro state\n",
      "|  |  |  |  |  |  |  |  |  |  |  +-- ro current_priority?   Uint8\n",
      "|  |  |  |  |  |  |  |  |  |  |  +-- ro virtual_address?    LeafList\n",
      "|  |  |  |  |  |  |  |  |  |  |  +-- ro priority?           Uint8\n",
      "|  |  |  |  |  |  |  |  |  |  |  +-- ro preempt?            Boolean\n",
      "|  |  |  |  |  |  |  |  |  |  |  +-- ro advertisement_interval?Uint16\n",
      "|  |  |  |  |  |  |  |  |  |  |  +-- ro virtual_router_id?  Uint8\n",
      "|  |  |  |  |  |  |  |  |  |  |  +-- ro preempt_delay?      Uint16\n",
      "|  |  |  |  |  |  |  |  |  |  |  +-- ro accept_mode?        Boolean\n",
      "|  |  |  |  |  |  |  |  |  |  +-- rw config\n",
      "|  |  |  |  |  |  |  |  |  |  |  +-- rw virtual_address?    LeafList\n",
      "|  |  |  |  |  |  |  |  |  |  |  +-- rw priority?           Uint8\n",
      "|  |  |  |  |  |  |  |  |  |  |  +-- rw preempt?            Boolean\n",
      "|  |  |  |  |  |  |  |  |  |  |  +-- rw advertisement_interval?Uint16\n",
      "|  |  |  |  |  |  |  |  |  |  |  +-- rw virtual_router_id?  Uint8\n",
      "|  |  |  |  |  |  |  |  |  |  |  +-- rw preempt_delay?      Uint16\n",
      "|  |  |  |  |  |  |  |  |  |  |  +-- rw accept_mode?        Boolean\n",
      "|  |  |  |  |  |  |  |  |  |  +-- rw interface_tracking\n",
      "|  |  |  |  |  |  |  |  |  |  |  +-- ro state\n",
      "|  |  |  |  |  |  |  |  |  |  |  |  +-- ro priority_decrement?Uint8\n",
      "|  |  |  |  |  |  |  |  |  |  |  |  +-- ro track_interface? Leafref\n",
      "|  |  |  |  |  |  |  |  |  |  |  +-- rw config\n",
      "|  |  |  |  |  |  |  |  |  |  |  |  +-- rw priority_decrement?Uint8\n",
      "|  |  |  |  |  |  |  |  |  |  |  |  +-- rw track_interface? Leafref\n",
      "|  |  |  |  |  +-- rw ipv6\n",
      "|  |  |  |  |  |    \\ [augment] oc-ip - when: always\n",
      "|  |  |  |  |  |  +-- rw neighbors\n",
      "|  |  |  |  |  |  |  +-- rw neighbor* [ip]\n",
      "|  |  |  |  |  |  |  |  +-- rw ip?                          Leafref\n",
      "|  |  |  |  |  |  |  |  +-- ro state\n",
      "|  |  |  |  |  |  |  |  |  +-- ro origin?                   NeighborOrigin\n",
      "|  |  |  |  |  |  |  |  |  +-- ro ip?                       Ipv6AddressNoZone\n",
      "|  |  |  |  |  |  |  |  |  +-- ro neighbor_state?           Enumeration\n",
      "|  |  |  |  |  |  |  |  |  +-- ro link_layer_address        PhysAddress\n",
      "|  |  |  |  |  |  |  |  |  +-- ro is_router?                Empty\n",
      "|  |  |  |  |  |  |  |  +-- rw config\n",
      "|  |  |  |  |  |  |  |  |  +-- rw ip?                       Ipv6AddressNoZone\n",
      "|  |  |  |  |  |  |  |  |  +-- rw link_layer_address        PhysAddress\n",
      "|  |  |  |  |  |  +-- ro state\n",
      "|  |  |  |  |  |  |  +-- ro dup_addr_detect_transmits?      Uint32\n",
      "|  |  |  |  |  |  |  +-- ro enabled?                        Boolean\n",
      "|  |  |  |  |  |  |  +-- ro mtu?                            Uint32\n",
      "|  |  |  |  |  |  +-- rw unnumbered\n",
      "|  |  |  |  |  |  |  +-- ro state\n",
      "|  |  |  |  |  |  |  |  +-- ro enabled?                     Boolean\n",
      "|  |  |  |  |  |  |  +-- rw config\n",
      "|  |  |  |  |  |  |  |  +-- rw enabled?                     Boolean\n",
      "|  |  |  |  |  |  |  +-- rw interface_ref\n",
      "|  |  |  |  |  |  |  |  +-- ro state\n",
      "|  |  |  |  |  |  |  |  |  +-- ro interface?                Leafref\n",
      "|  |  |  |  |  |  |  |  |  +-- ro subinterface?             Leafref\n",
      "|  |  |  |  |  |  |  |  +-- rw config\n",
      "|  |  |  |  |  |  |  |  |  +-- rw interface?                Leafref\n",
      "|  |  |  |  |  |  |  |  |  +-- rw subinterface?             Leafref\n",
      "|  |  |  |  |  |  +-- rw config\n",
      "|  |  |  |  |  |  |  +-- rw dup_addr_detect_transmits?      Uint32\n",
      "|  |  |  |  |  |  |  +-- rw enabled?                        Boolean\n",
      "|  |  |  |  |  |  |  +-- rw mtu?                            Uint32\n",
      "|  |  |  |  |  |  +-- rw addresses\n",
      "|  |  |  |  |  |  |  +-- rw address* [ip]\n",
      "|  |  |  |  |  |  |  |  +-- rw ip?                          Leafref\n",
      "|  |  |  |  |  |  |  |  +-- ro state\n",
      "|  |  |  |  |  |  |  |  |  +-- ro origin?                   IpAddressOrigin\n",
      "|  |  |  |  |  |  |  |  |  +-- ro ip?                       Ipv6AddressNoZone\n",
      "|  |  |  |  |  |  |  |  |  +-- ro status?                   Enumeration\n",
      "|  |  |  |  |  |  |  |  |  +-- ro prefix_length             Uint8\n",
      "|  |  |  |  |  |  |  |  +-- rw config\n",
      "|  |  |  |  |  |  |  |  |  +-- rw ip?                       Ipv6AddressNoZone\n",
      "|  |  |  |  |  |  |  |  |  +-- rw prefix_length             Uint8\n",
      "|  |  |  |  |  |  |  |  +-- rw vrrp\n",
      "|  |  |  |  |  |  |  |  |    \\ [augment] oc-ip - when: always\n",
      "|  |  |  |  |  |  |  |  |  +-- rw vrrp_group* [virtual_router_id]\n",
      "|  |  |  |  |  |  |  |  |  |  +-- rw virtual_router_id?     Leafref\n",
      "|  |  |  |  |  |  |  |  |  |  +-- ro state\n",
      "|  |  |  |  |  |  |  |  |  |  |  +-- ro virtual_link_local? IpAddress\n",
      "|  |  |  |  |  |  |  |  |  |  |  |    \\ [augment] oc-ip - when: always\n",
      "|  |  |  |  |  |  |  |  |  |  |  +-- ro current_priority?   Uint8\n",
      "|  |  |  |  |  |  |  |  |  |  |  +-- ro virtual_address?    LeafList\n",
      "|  |  |  |  |  |  |  |  |  |  |  +-- ro priority?           Uint8\n",
      "|  |  |  |  |  |  |  |  |  |  |  +-- ro preempt?            Boolean\n",
      "|  |  |  |  |  |  |  |  |  |  |  +-- ro advertisement_interval?Uint16\n",
      "|  |  |  |  |  |  |  |  |  |  |  +-- ro virtual_router_id?  Uint8\n",
      "|  |  |  |  |  |  |  |  |  |  |  +-- ro preempt_delay?      Uint16\n",
      "|  |  |  |  |  |  |  |  |  |  |  +-- ro accept_mode?        Boolean\n",
      "|  |  |  |  |  |  |  |  |  |  +-- rw config\n",
      "|  |  |  |  |  |  |  |  |  |  |  +-- rw virtual_link_local? IpAddress\n",
      "|  |  |  |  |  |  |  |  |  |  |  |    \\ [augment] oc-ip - when: always\n",
      "|  |  |  |  |  |  |  |  |  |  |  +-- rw virtual_address?    LeafList\n",
      "|  |  |  |  |  |  |  |  |  |  |  +-- rw priority?           Uint8\n",
      "|  |  |  |  |  |  |  |  |  |  |  +-- rw preempt?            Boolean\n",
      "|  |  |  |  |  |  |  |  |  |  |  +-- rw advertisement_interval?Uint16\n",
      "|  |  |  |  |  |  |  |  |  |  |  +-- rw virtual_router_id?  Uint8\n",
      "|  |  |  |  |  |  |  |  |  |  |  +-- rw preempt_delay?      Uint16\n",
      "|  |  |  |  |  |  |  |  |  |  |  +-- rw accept_mode?        Boolean\n",
      "|  |  |  |  |  |  |  |  |  |  +-- rw interface_tracking\n",
      "|  |  |  |  |  |  |  |  |  |  |  +-- ro state\n",
      "|  |  |  |  |  |  |  |  |  |  |  |  +-- ro priority_decrement?Uint8\n",
      "|  |  |  |  |  |  |  |  |  |  |  |  +-- ro track_interface? Leafref\n",
      "|  |  |  |  |  |  |  |  |  |  |  +-- rw config\n",
      "|  |  |  |  |  |  |  |  |  |  |  |  +-- rw priority_decrement?Uint8\n",
      "|  |  |  |  |  |  |  |  |  |  |  |  +-- rw track_interface? Leafref\n",
      "|  |  |  |  |  +-- rw config\n",
      "|  |  |  |  |  |  +-- rw index?                             Uint32\n",
      "|  |  |  |  |  |  +-- rw enabled?                           Boolean\n",
      "|  |  |  |  |  |  +-- rw name?                              String\n",
      "|  |  |  |  |  |  +-- rw description?                       String\n",
      "|  |  |  +-- rw hold_time\n",
      "|  |  |  |  +-- ro state\n",
      "|  |  |  |  |  +-- ro down?                                 Uint32\n",
      "|  |  |  |  |  +-- ro up?                                   Uint32\n",
      "|  |  |  |  +-- rw config\n",
      "|  |  |  |  |  +-- rw down?                                 Uint32\n",
      "|  |  |  |  |  +-- rw up?                                   Uint32\n",
      "|  |  |  +-- rw aggregation\n",
      "|  |  |  |    \\ [augment] oc-lag - when: always\n",
      "|  |  |  |  +-- rw switched_vlan\n",
      "|  |  |  |  |    \\ [augment] oc-vlan - when: always\n",
      "|  |  |  |  |  +-- ro state\n",
      "|  |  |  |  |  |  +-- ro native_vlan?                       Union\n",
      "|  |  |  |  |  |  +-- ro access_vlan?                       Union\n",
      "|  |  |  |  |  |  +-- ro trunk_vlans?                       LeafList\n",
      "|  |  |  |  |  |  +-- ro interface_mode?                    VlanModeType\n",
      "|  |  |  |  |  +-- rw config\n",
      "|  |  |  |  |  |  +-- rw native_vlan?                       Union\n",
      "|  |  |  |  |  |  +-- rw access_vlan?                       Union\n",
      "|  |  |  |  |  |  +-- rw trunk_vlans?                       LeafList\n",
      "|  |  |  |  |  |  +-- rw interface_mode?                    VlanModeType\n",
      "|  |  |  |  +-- ro state\n",
      "|  |  |  |  |  +-- ro member?                               LeafList\n",
      "|  |  |  |  |  +-- ro lag_speed?                            Uint32\n",
      "|  |  |  |  |  +-- ro min_links?                            Uint16\n",
      "|  |  |  |  |  +-- ro lag_type?                             AggregationType\n",
      "|  |  |  |  +-- rw config\n",
      "|  |  |  |  |  +-- rw min_links?                            Uint16\n",
      "|  |  |  |  |  +-- rw lag_type?                             AggregationType\n",
      "|  |  |  +-- rw routed_vlan\n",
      "|  |  |  |    \\ [augment] oc-vlan - when: always\n",
      "|  |  |  |  +-- ro state\n",
      "|  |  |  |  |  +-- ro vlan?                                 Union\n",
      "|  |  |  |  +-- rw ipv6\n",
      "|  |  |  |  |    \\ [augment] oc-ip - when: always\n",
      "|  |  |  |  |  +-- rw neighbors\n",
      "|  |  |  |  |  |  +-- rw neighbor* [ip]\n",
      "|  |  |  |  |  |  |  +-- rw ip?                             Leafref\n",
      "|  |  |  |  |  |  |  +-- ro state\n",
      "|  |  |  |  |  |  |  |  +-- ro origin?                      NeighborOrigin\n",
      "|  |  |  |  |  |  |  |  +-- ro ip?                          Ipv6AddressNoZone\n",
      "|  |  |  |  |  |  |  |  +-- ro neighbor_state?              Enumeration\n",
      "|  |  |  |  |  |  |  |  +-- ro link_layer_address           PhysAddress\n",
      "|  |  |  |  |  |  |  |  +-- ro is_router?                   Empty\n",
      "|  |  |  |  |  |  |  +-- rw config\n",
      "|  |  |  |  |  |  |  |  +-- rw ip?                          Ipv6AddressNoZone\n",
      "|  |  |  |  |  |  |  |  +-- rw link_layer_address           PhysAddress\n",
      "|  |  |  |  |  +-- ro state\n",
      "|  |  |  |  |  |  +-- ro dup_addr_detect_transmits?         Uint32\n",
      "|  |  |  |  |  |  +-- ro enabled?                           Boolean\n",
      "|  |  |  |  |  |  +-- ro mtu?                               Uint32\n",
      "|  |  |  |  |  +-- rw unnumbered\n",
      "|  |  |  |  |  |  +-- ro state\n",
      "|  |  |  |  |  |  |  +-- ro enabled?                        Boolean\n",
      "|  |  |  |  |  |  +-- rw config\n",
      "|  |  |  |  |  |  |  +-- rw enabled?                        Boolean\n",
      "|  |  |  |  |  |  +-- rw interface_ref\n",
      "|  |  |  |  |  |  |  +-- ro state\n",
      "|  |  |  |  |  |  |  |  +-- ro interface?                   Leafref\n",
      "|  |  |  |  |  |  |  |  +-- ro subinterface?                Leafref\n",
      "|  |  |  |  |  |  |  +-- rw config\n",
      "|  |  |  |  |  |  |  |  +-- rw interface?                   Leafref\n",
      "|  |  |  |  |  |  |  |  +-- rw subinterface?                Leafref\n",
      "|  |  |  |  |  +-- rw config\n",
      "|  |  |  |  |  |  +-- rw dup_addr_detect_transmits?         Uint32\n",
      "|  |  |  |  |  |  +-- rw enabled?                           Boolean\n",
      "|  |  |  |  |  |  +-- rw mtu?                               Uint32\n",
      "|  |  |  |  |  +-- rw addresses\n",
      "|  |  |  |  |  |  +-- rw address* [ip]\n",
      "|  |  |  |  |  |  |  +-- rw ip?                             Leafref\n",
      "|  |  |  |  |  |  |  +-- ro state\n",
      "|  |  |  |  |  |  |  |  +-- ro origin?                      IpAddressOrigin\n",
      "|  |  |  |  |  |  |  |  +-- ro ip?                          Ipv6AddressNoZone\n",
      "|  |  |  |  |  |  |  |  +-- ro status?                      Enumeration\n",
      "|  |  |  |  |  |  |  |  +-- ro prefix_length                Uint8\n",
      "|  |  |  |  |  |  |  +-- rw config\n",
      "|  |  |  |  |  |  |  |  +-- rw ip?                          Ipv6AddressNoZone\n",
      "|  |  |  |  |  |  |  |  +-- rw prefix_length                Uint8\n",
      "|  |  |  |  |  |  |  +-- rw vrrp\n",
      "|  |  |  |  |  |  |  |    \\ [augment] oc-ip - when: always\n",
      "|  |  |  |  |  |  |  |  +-- rw vrrp_group* [virtual_router_id]\n",
      "|  |  |  |  |  |  |  |  |  +-- rw virtual_router_id?        Leafref\n",
      "|  |  |  |  |  |  |  |  |  +-- ro state\n",
      "|  |  |  |  |  |  |  |  |  |  +-- ro virtual_link_local?    IpAddress\n",
      "|  |  |  |  |  |  |  |  |  |  |    \\ [augment] oc-ip - when: always\n",
      "|  |  |  |  |  |  |  |  |  |  +-- ro current_priority?      Uint8\n",
      "|  |  |  |  |  |  |  |  |  |  +-- ro virtual_address?       LeafList\n",
      "|  |  |  |  |  |  |  |  |  |  +-- ro priority?              Uint8\n",
      "|  |  |  |  |  |  |  |  |  |  +-- ro preempt?               Boolean\n",
      "|  |  |  |  |  |  |  |  |  |  +-- ro advertisement_interval?Uint16\n",
      "|  |  |  |  |  |  |  |  |  |  +-- ro virtual_router_id?     Uint8\n",
      "|  |  |  |  |  |  |  |  |  |  +-- ro preempt_delay?         Uint16\n",
      "|  |  |  |  |  |  |  |  |  |  +-- ro accept_mode?           Boolean\n",
      "|  |  |  |  |  |  |  |  |  +-- rw config\n",
      "|  |  |  |  |  |  |  |  |  |  +-- rw virtual_link_local?    IpAddress\n",
      "|  |  |  |  |  |  |  |  |  |  |    \\ [augment] oc-ip - when: always\n",
      "|  |  |  |  |  |  |  |  |  |  +-- rw virtual_address?       LeafList\n",
      "|  |  |  |  |  |  |  |  |  |  +-- rw priority?              Uint8\n",
      "|  |  |  |  |  |  |  |  |  |  +-- rw preempt?               Boolean\n",
      "|  |  |  |  |  |  |  |  |  |  +-- rw advertisement_interval?Uint16\n",
      "|  |  |  |  |  |  |  |  |  |  +-- rw virtual_router_id?     Uint8\n",
      "|  |  |  |  |  |  |  |  |  |  +-- rw preempt_delay?         Uint16\n",
      "|  |  |  |  |  |  |  |  |  |  +-- rw accept_mode?           Boolean\n",
      "|  |  |  |  |  |  |  |  |  +-- rw interface_tracking\n",
      "|  |  |  |  |  |  |  |  |  |  +-- ro state\n",
      "|  |  |  |  |  |  |  |  |  |  |  +-- ro priority_decrement? Uint8\n",
      "|  |  |  |  |  |  |  |  |  |  |  +-- ro track_interface?    Leafref\n",
      "|  |  |  |  |  |  |  |  |  |  +-- rw config\n",
      "|  |  |  |  |  |  |  |  |  |  |  +-- rw priority_decrement? Uint8\n",
      "|  |  |  |  |  |  |  |  |  |  |  +-- rw track_interface?    Leafref\n",
      "|  |  |  |  +-- rw config\n",
      "|  |  |  |  |  +-- rw vlan?                                 Union\n",
      "|  |  |  |  +-- rw ipv4\n",
      "|  |  |  |  |    \\ [augment] oc-ip - when: always\n",
      "|  |  |  |  |  +-- rw neighbors\n",
      "|  |  |  |  |  |  +-- rw neighbor* [ip]\n",
      "|  |  |  |  |  |  |  +-- rw ip?                             Leafref\n",
      "|  |  |  |  |  |  |  +-- ro state\n",
      "|  |  |  |  |  |  |  |  +-- ro origin?                      NeighborOrigin\n",
      "|  |  |  |  |  |  |  |  +-- ro ip?                          Ipv4AddressNoZone\n",
      "|  |  |  |  |  |  |  |  +-- ro link_layer_address           PhysAddress\n",
      "|  |  |  |  |  |  |  +-- rw config\n",
      "|  |  |  |  |  |  |  |  +-- rw ip?                          Ipv4AddressNoZone\n",
      "|  |  |  |  |  |  |  |  +-- rw link_layer_address           PhysAddress\n",
      "|  |  |  |  |  +-- ro state\n",
      "|  |  |  |  |  |  +-- ro enabled?                           Boolean\n",
      "|  |  |  |  |  |  +-- ro mtu?                               Uint16\n",
      "|  |  |  |  |  +-- rw unnumbered\n",
      "|  |  |  |  |  |  +-- ro state\n",
      "|  |  |  |  |  |  |  +-- ro enabled?                        Boolean\n",
      "|  |  |  |  |  |  +-- rw config\n",
      "|  |  |  |  |  |  |  +-- rw enabled?                        Boolean\n",
      "|  |  |  |  |  |  +-- rw interface_ref\n",
      "|  |  |  |  |  |  |  +-- ro state\n",
      "|  |  |  |  |  |  |  |  +-- ro interface?                   Leafref\n",
      "|  |  |  |  |  |  |  |  +-- ro subinterface?                Leafref\n",
      "|  |  |  |  |  |  |  +-- rw config\n",
      "|  |  |  |  |  |  |  |  +-- rw interface?                   Leafref\n",
      "|  |  |  |  |  |  |  |  +-- rw subinterface?                Leafref\n",
      "|  |  |  |  |  +-- rw config\n",
      "|  |  |  |  |  |  +-- rw enabled?                           Boolean\n",
      "|  |  |  |  |  |  +-- rw mtu?                               Uint16\n",
      "|  |  |  |  |  +-- rw addresses\n",
      "|  |  |  |  |  |  +-- rw address* [ip]\n",
      "|  |  |  |  |  |  |  +-- rw ip?                             Leafref\n",
      "|  |  |  |  |  |  |  +-- ro state\n",
      "|  |  |  |  |  |  |  |  +-- ro origin?                      IpAddressOrigin\n",
      "|  |  |  |  |  |  |  |  +-- ro ip?                          Ipv4AddressNoZone\n",
      "|  |  |  |  |  |  |  |  +-- ro prefix_length?               Uint8\n",
      "|  |  |  |  |  |  |  +-- rw config\n",
      "|  |  |  |  |  |  |  |  +-- rw ip?                          Ipv4AddressNoZone\n",
      "|  |  |  |  |  |  |  |  +-- rw prefix_length?               Uint8\n",
      "|  |  |  |  |  |  |  |  +-- rw secondary?                   Boolean\n",
      "|  |  |  |  |  |  |  |  |    \\ [augment] napalm-ip - when: always\n",
      "|  |  |  |  |  |  |  +-- rw vrrp\n",
      "|  |  |  |  |  |  |  |    \\ [augment] oc-ip - when: always\n",
      "|  |  |  |  |  |  |  |  +-- rw vrrp_group* [virtual_router_id]\n",
      "|  |  |  |  |  |  |  |  |  +-- rw virtual_router_id?        Leafref\n",
      "|  |  |  |  |  |  |  |  |  +-- ro state\n",
      "|  |  |  |  |  |  |  |  |  |  +-- ro current_priority?      Uint8\n",
      "|  |  |  |  |  |  |  |  |  |  +-- ro virtual_address?       LeafList\n",
      "|  |  |  |  |  |  |  |  |  |  +-- ro priority?              Uint8\n",
      "|  |  |  |  |  |  |  |  |  |  +-- ro preempt?               Boolean\n",
      "|  |  |  |  |  |  |  |  |  |  +-- ro advertisement_interval?Uint16\n",
      "|  |  |  |  |  |  |  |  |  |  +-- ro virtual_router_id?     Uint8\n",
      "|  |  |  |  |  |  |  |  |  |  +-- ro preempt_delay?         Uint16\n",
      "|  |  |  |  |  |  |  |  |  |  +-- ro accept_mode?           Boolean\n",
      "|  |  |  |  |  |  |  |  |  +-- rw config\n",
      "|  |  |  |  |  |  |  |  |  |  +-- rw virtual_address?       LeafList\n",
      "|  |  |  |  |  |  |  |  |  |  +-- rw priority?              Uint8\n",
      "|  |  |  |  |  |  |  |  |  |  +-- rw preempt?               Boolean\n",
      "|  |  |  |  |  |  |  |  |  |  +-- rw advertisement_interval?Uint16\n",
      "|  |  |  |  |  |  |  |  |  |  +-- rw virtual_router_id?     Uint8\n",
      "|  |  |  |  |  |  |  |  |  |  +-- rw preempt_delay?         Uint16\n",
      "|  |  |  |  |  |  |  |  |  |  +-- rw accept_mode?           Boolean\n",
      "|  |  |  |  |  |  |  |  |  +-- rw interface_tracking\n",
      "|  |  |  |  |  |  |  |  |  |  +-- ro state\n",
      "|  |  |  |  |  |  |  |  |  |  |  +-- ro priority_decrement? Uint8\n",
      "|  |  |  |  |  |  |  |  |  |  |  +-- ro track_interface?    Leafref\n",
      "|  |  |  |  |  |  |  |  |  |  +-- rw config\n",
      "|  |  |  |  |  |  |  |  |  |  |  +-- rw priority_decrement? Uint8\n",
      "|  |  |  |  |  |  |  |  |  |  |  +-- rw track_interface?    Leafref\n",
      "|  |  |  +-- ro state\n",
      "|  |  |  |  +-- ro oper_status                              Enumeration\n",
      "|  |  |  |  +-- ro description?                             String\n",
      "|  |  |  |  +-- ro name?                                    String\n",
      "|  |  |  |  +-- ro enabled?                                 Boolean\n",
      "|  |  |  |  +-- rw counters\n",
      "|  |  |  |  |  +-- rw in_octets?                            Counter64\n",
      "|  |  |  |  |  +-- rw in_discards?                          Counter64\n",
      "|  |  |  |  |  +-- rw last_clear?                           DateAndTime\n",
      "|  |  |  |  |  +-- rw out_broadcast_pkts?                   Counter64\n",
      "|  |  |  |  |  +-- rw in_broadcast_pkts?                    Counter64\n",
      "|  |  |  |  |  +-- rw in_errors?                            Counter64\n",
      "|  |  |  |  |  +-- rw out_unicast_pkts?                     Counter64\n",
      "|  |  |  |  |  +-- rw out_multicast_pkts?                   Counter64\n",
      "|  |  |  |  |  +-- rw in_multicast_pkts?                    Counter64\n",
      "|  |  |  |  |  +-- rw in_unicast_pkts?                      Counter64\n",
      "|  |  |  |  |  +-- rw in_unknown_protos?                    Counter32\n",
      "|  |  |  |  |  +-- rw out_discards?                         Counter64\n",
      "|  |  |  |  |  +-- rw out_errors?                           Counter64\n",
      "|  |  |  |  |  +-- rw out_octets?                           Counter64\n",
      "|  |  |  |  +-- ro mtu?                                     Uint16\n",
      "|  |  |  |  +-- ro type_                                    Identityref\n",
      "|  |  |  |  +-- ro admin_status                             Enumeration\n",
      "|  |  |  |  +-- ro ifindex?                                 Uint32\n",
      "|  |  |  |  +-- ro hardware_port?                           Leafref\n",
      "|  |  |  |  |    \\ [augment] oc-platform - when: always\n",
      "|  |  |  |  +-- ro last_change?                             Timeticks\n",
      "|  |  |  +-- rw ethernet\n",
      "|  |  |  |    \\ [augment] oc-eth - when: always\n",
      "|  |  |  |  +-- rw switched_vlan\n",
      "|  |  |  |  |    \\ [augment] oc-vlan - when: always\n",
      "|  |  |  |  |  +-- ro state\n",
      "|  |  |  |  |  |  +-- ro native_vlan?                       Union\n",
      "|  |  |  |  |  |  +-- ro access_vlan?                       Union\n",
      "|  |  |  |  |  |  +-- ro trunk_vlans?                       LeafList\n",
      "|  |  |  |  |  |  +-- ro interface_mode?                    VlanModeType\n",
      "|  |  |  |  |  +-- rw config\n",
      "|  |  |  |  |  |  +-- rw native_vlan?                       Union\n",
      "|  |  |  |  |  |  +-- rw access_vlan?                       Union\n",
      "|  |  |  |  |  |  +-- rw trunk_vlans?                       LeafList\n",
      "|  |  |  |  |  |  +-- rw interface_mode?                    VlanModeType\n",
      "|  |  |  |  +-- ro state\n",
      "|  |  |  |  |  +-- ro hw_mac_address?                       MacAddress\n",
      "|  |  |  |  |  +-- ro port_speed?                           Identityref\n",
      "|  |  |  |  |  +-- ro duplex_mode?                          Enumeration\n",
      "|  |  |  |  |  +-- ro negotiated_port_speed?                Identityref\n",
      "|  |  |  |  |  +-- ro effective_speed?                      Uint32\n",
      "|  |  |  |  |  +-- ro aggregate_id?                         Leafref\n",
      "|  |  |  |  |  |    \\ [augment] oc-lag - when: always\n",
      "|  |  |  |  |  +-- ro auto_negotiate?                       Boolean\n",
      "|  |  |  |  |  +-- ro negotiated_duplex_mode?               Enumeration\n",
      "|  |  |  |  |  +-- ro mac_address?                          MacAddress\n",
      "|  |  |  |  |  +-- ro enable_flow_control?                  Boolean\n",
      "|  |  |  |  |  +-- rw counters\n",
      "|  |  |  |  |  |  +-- rw in_oversize_frames?                Counter64\n",
      "|  |  |  |  |  |  +-- rw out_mac_control_frames?            Counter64\n",
      "|  |  |  |  |  |  +-- rw in_mac_pause_frames?               Counter64\n",
      "|  |  |  |  |  |  +-- rw in_jabber_frames?                  Counter64\n",
      "|  |  |  |  |  |  +-- rw in_8021q_frames?                   Counter64\n",
      "|  |  |  |  |  |  +-- rw in_fragment_frames?                Counter64\n",
      "|  |  |  |  |  |  +-- rw in_mac_control_frames?             Counter64\n",
      "|  |  |  |  |  |  +-- rw out_8021q_frames?                  Counter64\n",
      "|  |  |  |  |  |  +-- rw out_mac_pause_frames?              Counter64\n",
      "|  |  |  |  |  |  +-- rw in_crc_errors?                     Counter64\n",
      "|  |  |  |  +-- rw config\n",
      "|  |  |  |  |  +-- rw duplex_mode?                          Enumeration\n",
      "|  |  |  |  |  +-- rw port_speed?                           Identityref\n",
      "|  |  |  |  |  +-- rw aggregate_id?                         Leafref\n",
      "|  |  |  |  |  |    \\ [augment] oc-lag - when: always\n",
      "|  |  |  |  |  +-- rw auto_negotiate?                       Boolean\n",
      "|  |  |  |  |  +-- rw mac_address?                          MacAddress\n",
      "|  |  |  |  |  +-- rw enable_flow_control?                  Boolean\n",
      "|  |  |  +-- rw config\n",
      "|  |  |  |  +-- rw description?                             String\n",
      "|  |  |  |  +-- rw enabled?                                 Boolean\n",
      "|  |  |  |  +-- rw mtu?                                     Uint16\n",
      "|  |  |  |  +-- rw type_                                    Identityref\n",
      "|  |  |  |  +-- rw name?                                    String\n",
      "|  +-- rw vlans\n",
      "|  |  +-- rw vlan* [vlan_id]\n",
      "|  |  |  +-- ro state\n",
      "|  |  |  |  +-- ro status?                                  Enumeration\n",
      "|  |  |  |  +-- ro tpid?                                    Identityref\n",
      "|  |  |  |  +-- ro vlan_id?                                 VlanId\n",
      "|  |  |  |  +-- ro name?                                    String\n",
      "|  |  |  +-- rw vlan_id?                                    Leafref\n",
      "|  |  |  +-- rw config\n",
      "|  |  |  |  +-- rw status?                                  Enumeration\n",
      "|  |  |  |  +-- rw tpid?                                    Identityref\n",
      "|  |  |  |  +-- rw vlan_id?                                 VlanId\n",
      "|  |  |  |  +-- rw name?                                    String\n",
      "|  |  |  +-- rw members\n",
      "|  |  |  |  +-- ro member\n",
      "|  |  |  |  |  +-- rw interface_ref\n",
      "|  |  |  |  |  |  +-- ro state\n",
      "|  |  |  |  |  |  |  +-- ro interface?                      Leafref\n",
      "|  |  |  |  |  |  |  +-- ro subinterface?                   Leafref\n",
      "\n"
     ]
    }
   ],
   "source": [
    "# Printing the model in a human readable format\n",
    "print(config.model_to_text())"
   ]
  },
  {
   "cell_type": "markdown",
   "metadata": {
    "deletable": true,
    "editable": true
   },
   "source": [
    "# Populating models\n",
    "\n",
    "Now that you have the models loaded, there are different ways to populate them."
   ]
  },
  {
   "cell_type": "markdown",
   "metadata": {
    "deletable": true,
    "editable": true
   },
   "source": [
    "## Populating the model programatically\n",
    "\n",
    "You can populate the model programmatically by navigating the model following its specifications. There are a few considerations:\n",
    "\n",
    "1. Containers and leafs are attributes, which means you access them with a '``.``'. For example, ``interface.config.description``.\n",
    "2. Leafs are populate by calling them and passing the value, for example ``interface.config.mtu(1500)``.\n",
    "3. YANG lists behave like a OrderedDict in python which means you can access them, iterate over them, pop, get, etc... as you would do you with a dictionary.\n",
    "4. Values can be defaulted by setting them to ``None``. For example. ``config.mtu(None)``\n",
    "5. In addition to behave like a dict, they provide two other methods:\n",
    " 1. `get_element(key)`. Returns the element ``key`` if it exists. If it doesn't the element will be created and returned.\n",
    " 1. `new_element(key)`. Creates and returns element ``key``. If it already exists the old one is dropped."
   ]
  },
  {
   "cell_type": "code",
   "execution_count": 4,
   "metadata": {
    "collapsed": false,
    "deletable": true,
    "editable": true
   },
   "outputs": [
    {
     "name": "stdout",
     "output_type": "stream",
     "text": [
      "My description\n",
      "1500\n"
     ]
    }
   ],
   "source": [
    "# We create an interface and set the description and the mtu\n",
    "et1 = config.interfaces.interface.new_element(\"et1\")\n",
    "et1.config.description(\"My description\")\n",
    "et1.config.mtu(1500)\n",
    "print(et1.config.description)\n",
    "print(et1.config.mtu)"
   ]
  },
  {
   "cell_type": "code",
   "execution_count": 5,
   "metadata": {
    "collapsed": false,
    "deletable": true,
    "editable": true
   },
   "outputs": [
    {
     "name": "stdout",
     "output_type": "stream",
     "text": [
      "Another description\n",
      "9000\n"
     ]
    }
   ],
   "source": [
    "# Let's create a second interface, this time accessing it from the root\n",
    "config.interfaces.interface.new_element(\"et2\")\n",
    "config.interfaces.interface[\"et2\"].config.description(\"Another description\")\n",
    "config.interfaces.interface[\"et2\"].config.mtu(9000)\n",
    "print(config.interfaces.interface[\"et2\"].config.description)\n",
    "print(config.interfaces.interface[\"et2\"].config.mtu)"
   ]
  },
  {
   "cell_type": "code",
   "execution_count": 6,
   "metadata": {
    "collapsed": false,
    "deletable": true,
    "editable": true
   },
   "outputs": [
    {
     "name": "stdout",
     "output_type": "stream",
     "text": [
      "{'interfaces': {'interface': {'et1': {'config': {'description': 'My description',\n",
      "                                                 'mtu': 1500}},\n",
      "                              'et2': {'config': {'description': 'Another description',\n",
      "                                                 'mtu': 9000}}}}}\n"
     ]
    }
   ],
   "source": [
    "# You can also get the contents as a dict with the ``to_dict`` method\n",
    "pprint.pprint(config.to_dict())"
   ]
  },
  {
   "cell_type": "code",
   "execution_count": 7,
   "metadata": {
    "collapsed": false,
    "deletable": true,
    "editable": true
   },
   "outputs": [
    {
     "name": "stdout",
     "output_type": "stream",
     "text": [
      "Wrong value for -1: Uint16\n"
     ]
    }
   ],
   "source": [
    "# If the value is not valid things will break\n",
    "try:\n",
    "    et1.config.mtu(-1)\n",
    "except ValueError as e:\n",
    "    print(e)"
   ]
  },
  {
   "cell_type": "markdown",
   "metadata": {},
   "source": [
    "Let's iterate over the interfaces a a dictionary:"
   ]
  },
  {
   "cell_type": "code",
   "execution_count": 8,
   "metadata": {
    "collapsed": false,
    "deletable": true,
    "editable": true
   },
   "outputs": [
    {
     "name": "stdout",
     "output_type": "stream",
     "text": [
      "('et1', String: My description)\n",
      "('et2', String: Another description)\n"
     ]
    }
   ],
   "source": [
    "# Iterating\n",
    "for iface, data in config.interfaces.interface.items():\n",
    "    print(iface, data.config.description)"
   ]
  },
  {
   "cell_type": "code",
   "execution_count": 9,
   "metadata": {
    "collapsed": false,
    "deletable": true,
    "editable": true,
    "slideshow": {
     "slide_type": "slide"
    }
   },
   "outputs": [
    {
     "name": "stdout",
     "output_type": "stream",
     "text": [
      "['et1', 'et2']\n",
      "['et2']\n"
     ]
    }
   ],
   "source": [
    "# We can also pop interfaces\n",
    "print(config.interfaces.interface.keys())\n",
    "config.interfaces.interface.pop(\"et1\")\n",
    "print(config.interfaces.interface.keys())"
   ]
  },
  {
   "cell_type": "markdown",
   "metadata": {
    "deletable": true,
    "editable": true
   },
   "source": [
    "## Populating the model from a dict\n",
    "\n",
    "You can also load a dictionary into the object."
   ]
  },
  {
   "cell_type": "code",
   "execution_count": 10,
   "metadata": {
    "collapsed": false,
    "deletable": true,
    "editable": true
   },
   "outputs": [
    {
     "name": "stdout",
     "output_type": "stream",
     "text": [
      "[200, 100]\n",
      "(100, String: production)\n",
      "(200, String: dev)\n"
     ]
    }
   ],
   "source": [
    "vlans_dict = {\n",
    "    \"vlans\": {\n",
    "        \"vlan\": {\n",
    "            100: {\n",
    "                \"config\": {\n",
    "                    \"vlan_id\": 100,\n",
    "                    \"name\": \"production\",\n",
    "                }\n",
    "            },\n",
    "            200: {\n",
    "                \"config\": {\n",
    "                    \"vlan_id\": 200,\n",
    "                    \"name\": \"dev\",\n",
    "                }\n",
    "            }            \n",
    "        }\n",
    "    }\n",
    "}\n",
    "config.load_dict(vlans_dict)\n",
    "print(config.vlans.vlan.keys())\n",
    "print(100, config.vlans.vlan[100].config.name)\n",
    "print(200, config.vlans.vlan[200].config.name)"
   ]
  },
  {
   "cell_type": "markdown",
   "metadata": {
    "deletable": true,
    "editable": true,
    "slideshow": {
     "slide_type": "-"
    }
   },
   "source": [
    "## Populating the model from a device\n",
    "\n",
    "You can also load the native configuration of a device into a model."
   ]
  },
  {
   "cell_type": "code",
   "execution_count": 11,
   "metadata": {
    "collapsed": false,
    "deletable": true,
    "editable": true
   },
   "outputs": [
    {
     "name": "stderr",
     "output_type": "stream",
     "text": [
      "No handlers could be found for logger \"napalm-yang\"\n"
     ]
    },
    {
     "name": "stdout",
     "output_type": "stream",
     "text": [
      "{'interfaces': {'interface': {u'Ethernet1': {'config': {'description': u'This is a description',\n",
      "                                                        'enabled': True,\n",
      "                                                        'name': u'Ethernet1',\n",
      "                                                        'type_': Identity: ethernetCsmacd},\n",
      "                                             'name': u'Ethernet1'},\n",
      "                              u'Ethernet2': {'config': {'description': u'so much oc',\n",
      "                                                        'mtu': 1500,\n",
      "                                                        'name': u'Ethernet2',\n",
      "                                                        'type_': Identity: ethernetCsmacd},\n",
      "                                             'name': u'Ethernet2',\n",
      "                                             'routed_vlan': {'ipv4': {'addresses': {'address': {u'192.168.0.1': {'config': {'ip': u'192.168.0.1',\n",
      "                                                                                                                            'prefix_length': 24},\n",
      "                                                                                                                 'ip': u'192.168.0.1'}}},\n",
      "                                                                      'config': {'enabled': True}}},\n",
      "                                             'subinterfaces': {'subinterface': {u'Ethernet2.1': {'config': {'description': u'another subiface',\n",
      "                                                                                                            'enabled': True,\n",
      "                                                                                                            'name': u'Ethernet2.1'},\n",
      "                                                                                                 'ipv4': {'addresses': {'address': {u'172.20.0.1': {'config': {'ip': u'172.20.0.1',\n",
      "                                                                                                                                                               'prefix_length': 24,\n",
      "                                                                                                                                                               'secondary': True},\n",
      "                                                                                                                                                    'ip': u'172.20.0.1'},\n",
      "                                                                                                                                    u'192.168.1.1': {'config': {'ip': u'192.168.1.1',\n",
      "                                                                                                                                                                'prefix_length': 24},\n",
      "                                                                                                                                                     'ip': u'192.168.1.1'}}},\n",
      "                                                                                                          'config': {'enabled': True}},\n",
      "                                                                                                 'vlan': {'config': {'vlan_id': u'1'}}},\n",
      "                                                                                u'Ethernet2.2': {'config': {'description': u'asdasdasd',\n",
      "                                                                                                            'enabled': True,\n",
      "                                                                                                            'name': u'Ethernet2.2'},\n",
      "                                                                                                 'ipv4': {'addresses': {'address': {u'192.168.2.1': {'config': {'ip': u'192.168.2.1',\n",
      "                                                                                                                                                                'prefix_length': 24},\n",
      "                                                                                                                                                     'ip': u'192.168.2.1'}}},\n",
      "                                                                                                          'config': {'enabled': True}},\n",
      "                                                                                                 'vlan': {'config': {'vlan_id': u'2'}}}}}},\n",
      "                              u'Loopback1': {'config': {'description': u'a loopback',\n",
      "                                                        'enabled': True,\n",
      "                                                        'mtu': 1500,\n",
      "                                                        'name': u'Loopback1',\n",
      "                                                        'type_': Identity: softwareLoopback},\n",
      "                                             'name': u'Loopback1',\n",
      "                                             'routed_vlan': {'ipv4': {'config': {'enabled': True}}}},\n",
      "                              u'Management1': {'config': {'enabled': True,\n",
      "                                                          'mtu': 1500,\n",
      "                                                          'name': u'Management1',\n",
      "                                                          'type_': Identity: ethernetCsmacd},\n",
      "                                               'name': u'Management1',\n",
      "                                               'routed_vlan': {'ipv4': {'addresses': {'address': {u'10.0.2.15': {'config': {'ip': u'10.0.2.15',\n",
      "                                                                                                                            'prefix_length': 24},\n",
      "                                                                                                                 'ip': u'10.0.2.15'}}},\n",
      "                                                                        'config': {'enabled': True}}}},\n",
      "                              u'Port-Channel1': {'config': {'description': u'blah',\n",
      "                                                            'enabled': True,\n",
      "                                                            'mtu': 9000,\n",
      "                                                            'name': u'Port-Channel1',\n",
      "                                                            'type_': Identity: ieee8023adLag},\n",
      "                                                 'name': u'Port-Channel1',\n",
      "                                                 'routed_vlan': {'ipv4': {'config': {'enabled': True}}},\n",
      "                                                 'subinterfaces': {'subinterface': {u'Port-Channel1.1': {'config': {'enabled': True,\n",
      "                                                                                                                    'name': u'Port-Channel1.1'},\n",
      "                                                                                                         'ipv4': {'config': {'enabled': True}},\n",
      "                                                                                                         'vlan': {'config': {'vlan_id': u'0'}}}}}}}}}\n"
     ]
    }
   ],
   "source": [
    "with eos_device as d:\n",
    "    running_config = napalm_yang.BaseBinding()\n",
    "    running_config.add_model(napalm_yang.oc_if.interfaces())\n",
    "    running_config.get_config(device=d)\n",
    "pprint.pprint(running_config.to_dict())"
   ]
  },
  {
   "cell_type": "markdown",
   "metadata": {
    "deletable": true,
    "editable": true
   },
   "source": [
    "## Populating from a file\n",
    "\n",
    "You can also populate the object from a file stored on disk. The only catch is that you will have to tell `get_config` which profile to use to parse it."
   ]
  },
  {
   "cell_type": "code",
   "execution_count": 12,
   "metadata": {
    "collapsed": false,
    "deletable": true,
    "editable": true,
    "scrolled": false
   },
   "outputs": [
    {
     "name": "stdout",
     "output_type": "stream",
     "text": [
      "{'interfaces': {'interface': {'ae0': {'config': {'description': 'ae0',\n",
      "                                                 'enabled': True,\n",
      "                                                 'mtu': 1514,\n",
      "                                                 'name': 'ae0',\n",
      "                                                 'type_': Identity: ieee8023adLag},\n",
      "                                      'name': 'ae0',\n",
      "                                      'subinterfaces': {'subinterface': {'0': {'config': {'description': 'ASDASDASD',\n",
      "                                                                                          'enabled': True,\n",
      "                                                                                          'name': '0'},\n",
      "                                                                               'ipv4': {'addresses': {'address': {'172.20.100.1/24': {'config': {'ip': '172.20.100.1',\n",
      "                                                                                                                                                 'prefix_length': 24},\n",
      "                                                                                                                                      'ip': '172.20.100.1'},\n",
      "                                                                                                                  '192.168.100.1/24': {'config': {'ip': '192.168.100.1',\n",
      "                                                                                                                                                  'prefix_length': 24},\n",
      "                                                                                                                                       'ip': '192.168.100.1'}}},\n",
      "                                                                                        'config': {'enabled': True}},\n",
      "                                                                               'vlan': {'config': {'vlan_id': '100'}}},\n",
      "                                                                         '1': {'config': {'description': 'ae0.1',\n",
      "                                                                                          'enabled': True,\n",
      "                                                                                          'name': '1'},\n",
      "                                                                               'ipv4': {'addresses': {'address': {'192.168.101.1/24': {'config': {'ip': '192.168.101.1',\n",
      "                                                                                                                                                  'prefix_length': 24},\n",
      "                                                                                                                                       'ip': '192.168.101.1'}}},\n",
      "                                                                                        'config': {'enabled': True}},\n",
      "                                                                               'vlan': {'config': {'vlan_id': '1'}}},\n",
      "                                                                         '2': {'config': {'description': 'ae0.2',\n",
      "                                                                                          'enabled': True,\n",
      "                                                                                          'name': '2'},\n",
      "                                                                               'ipv4': {'addresses': {'address': {'192.168.102.1/24': {'config': {'ip': '192.168.102.1',\n",
      "                                                                                                                                                  'prefix_length': 24},\n",
      "                                                                                                                                       'ip': '192.168.102.1'}}},\n",
      "                                                                                        'config': {'enabled': True}},\n",
      "                                                                               'vlan': {'config': {'vlan_id': '2'}}}}}},\n",
      "                              'ge-0/0/0': {'config': {'description': 'management interfaces',\n",
      "                                                      'enabled': True,\n",
      "                                                      'mtu': 1400,\n",
      "                                                      'name': 'ge-0/0/0',\n",
      "                                                      'type_': Identity: ethernetCsmacd},\n",
      "                                           'name': 'ge-0/0/0',\n",
      "                                           'subinterfaces': {'subinterface': {'0': {'config': {'description': 'ge-0/0/0.0',\n",
      "                                                                                               'enabled': True,\n",
      "                                                                                               'name': '0'},\n",
      "                                                                                    'ipv4': {'config': {'enabled': True}}}}}},\n",
      "                              'ge-0/0/1': {'config': {'description': 'ge-0/0/1',\n",
      "                                                      'mtu': 1514,\n",
      "                                                      'name': 'ge-0/0/1',\n",
      "                                                      'type_': Identity: ethernetCsmacd},\n",
      "                                           'name': 'ge-0/0/1'},\n",
      "                              'lo0': {'config': {'description': 'lo0',\n",
      "                                                 'enabled': True,\n",
      "                                                 'name': 'lo0',\n",
      "                                                 'type_': Identity: softwareLoopback},\n",
      "                                      'name': 'lo0',\n",
      "                                      'subinterfaces': {'subinterface': {'0': {'config': {'description': 'lo0.0',\n",
      "                                                                                          'enabled': True,\n",
      "                                                                                          'name': '0'}}}}}}}}\n"
     ]
    }
   ],
   "source": [
    "with open(\"junos.config\", \"r\") as f:\n",
    "    config = f.read()\n",
    "\n",
    "running_config = napalm_yang.BaseBinding()\n",
    "running_config.add_model(napalm_yang.oc_if.interfaces())\n",
    "running_config.get_config(config=config, profile=\"junos\")\n",
    "\n",
    "import json\n",
    "pprint.pprint(running_config.to_dict())"
   ]
  },
  {
   "cell_type": "markdown",
   "metadata": {
    "collapsed": true,
    "deletable": true,
    "editable": true
   },
   "source": [
    "# Translating models\n",
    "\n",
    "Now we know how to populate models, let's translate them into native configuration."
   ]
  },
  {
   "cell_type": "code",
   "execution_count": 13,
   "metadata": {
    "collapsed": false,
    "deletable": true,
    "editable": true
   },
   "outputs": [
    {
     "name": "stdout",
     "output_type": "stream",
     "text": [
      "{'interfaces': {'interface': {'et1': {'config': {'description': 'Uplink1',\n",
      "                                                 'mtu': 9000},\n",
      "                                      'routed_vlan': {'ipv4': {'addresses': {'address': {'192.168.1.1': {'config': {'ip': '192.168.1.1',\n",
      "                                                                                                                    'prefix_length': 24}}}}}}},\n",
      "                              'et2': {'config': {'description': 'Uplink2',\n",
      "                                                 'mtu': 9000},\n",
      "                                      'routed_vlan': {'ipv4': {'addresses': {'address': {'192.168.2.1': {'config': {'ip': '192.168.2.1',\n",
      "                                                                                                                    'prefix_length': 24}}}}}}}}}}\n"
     ]
    }
   ],
   "source": [
    "# Let's create a candidate configuration\n",
    "\n",
    "candidate = napalm_yang.BaseBinding()\n",
    "candidate.add_model(napalm_yang.oc_if.interfaces())\n",
    "\n",
    "def create_iface(candidate, name, description, mtu, prefix, prefix_length):\n",
    "    interface = candidate.interfaces.interface.new_element(name)\n",
    "    interface.config.description(description)\n",
    "    interface.config.mtu(mtu)\n",
    "    ip = interface.routed_vlan.ipv4.addresses.address.new_element(prefix)\n",
    "    ip.config.ip(prefix)\n",
    "    ip.config.prefix_length(prefix_length)    \n",
    "\n",
    "create_iface(candidate, \"et1\", \"Uplink1\", 9000, \"192.168.1.1\", 24)\n",
    "create_iface(candidate, \"et2\", \"Uplink2\", 9000, \"192.168.2.1\", 24)\n",
    "\n",
    "pprint.pprint(candidate.to_dict())"
   ]
  },
  {
   "cell_type": "code",
   "execution_count": 14,
   "metadata": {
    "collapsed": false
   },
   "outputs": [
    {
     "name": "stdout",
     "output_type": "stream",
     "text": [
      "<configuration>\n",
      "  <interfaces>\n",
      "    <interface>\n",
      "      <name>et1</name>\n",
      "      <description>Uplink1</description>\n",
      "      <mtu>9000</mtu>\n",
      "      <family>\n",
      "        <inet>\n",
      "          <address>\n",
      "            <name>192.168.1.1/24</name>\n",
      "          </address>\n",
      "        </inet>\n",
      "      </family>\n",
      "    </interface>\n",
      "    <interface>\n",
      "      <name>et2</name>\n",
      "      <description>Uplink2</description>\n",
      "      <mtu>9000</mtu>\n",
      "      <family>\n",
      "        <inet>\n",
      "          <address>\n",
      "            <name>192.168.2.1/24</name>\n",
      "          </address>\n",
      "        </inet>\n",
      "      </family>\n",
      "    </interface>\n",
      "  </interfaces>\n",
      "</configuration>\n",
      "\n"
     ]
    }
   ],
   "source": [
    "# Now let's translate the object to JunOS\n",
    "\n",
    "print(candidate.translate(junos_device))"
   ]
  },
  {
   "cell_type": "code",
   "execution_count": 15,
   "metadata": {
    "collapsed": false
   },
   "outputs": [
    {
     "name": "stdout",
     "output_type": "stream",
     "text": [
      "interface et1\n",
      "    description Uplink1\n",
      "    mtu 9000\n",
      "    ip address 192.168.1.1/24 \n",
      "interface et2\n",
      "    description Uplink2\n",
      "    mtu 9000\n",
      "    ip address 192.168.2.1/24 \n",
      "\n"
     ]
    }
   ],
   "source": [
    "# And now to EOS\n",
    "\n",
    "print(candidate.translate(eos_device))"
   ]
  },
  {
   "cell_type": "markdown",
   "metadata": {},
   "source": [
    "But this is just the begining, the fun part is yet to come : )"
   ]
  },
  {
   "cell_type": "markdown",
   "metadata": {},
   "source": [
    "## Advanced manipulation of the configuration\n",
    "\n",
    "Generating configuration is cool but sometimes is not enough. Let's now see how we can use OpenConfig to make some changes to an existing configuration and generate a \"replacement\" of the configuration or a \"merge\".\n",
    "\n",
    "* A configuration replacement will replace the entire section. For example, if you are manipulating interfaces, all interfaces' configuration will be what's in the model you have. If some configuration parameter is not there, it will be wiped out.\n",
    "* A configuration merge is a bit different. Lists of elements are synchronized, which means that if you have one or more interfaces in the running configuration that don't exist in the candidate, they will be removed. This will happen to any list of elements. However, elements that exist in both the candidate and the running configuration will be merged, which means that if some attribute is not set in the candidate but is set in the running, it will not be modified."
   ]
  },
  {
   "cell_type": "code",
   "execution_count": 16,
   "metadata": {
    "collapsed": false
   },
   "outputs": [],
   "source": [
    "# first let's create a candidate config by retrieving the current state of the device\n",
    "candidate = napalm_yang.BaseBinding()\n",
    "candidate.add_model(napalm_yang.oc_if.interfaces())\n",
    "candidate.get_config(device=junos_device)\n",
    "\n",
    "# now let's do a few changes, let's remove lo0.0 and create lo0.1\n",
    "candidate.interfaces.interface[\"lo0\"].subinterfaces.subinterface.pop(\"0\")\n",
    "lo1 = candidate.interfaces.interface[\"lo0\"].subinterfaces.subinterface.new_element(\"1\")\n",
    "lo1.config.description(\"new loopback\")\n",
    "\n",
    "# Let's also default the mtu of ge-0/0/0 which is set to 1400\n",
    "candidate.interfaces.interface[\"ge-0/0/0\"].config.mtu(None)\n",
    "\n",
    "# We will also need a running configuration to compare against\n",
    "running = napalm_yang.BaseBinding()\n",
    "running.add_model(napalm_yang.oc_if.interfaces())\n",
    "running.get_config(device=junos_device)"
   ]
  },
  {
   "cell_type": "code",
   "execution_count": 17,
   "metadata": {
    "collapsed": false
   },
   "outputs": [
    {
     "name": "stdout",
     "output_type": "stream",
     "text": [
      "<configuration>\n",
      "  <interfaces>\n",
      "    <interface>\n",
      "      <name>ge-0/0/0</name>\n",
      "      <description>management interfaces</description>\n",
      "      <mtu delete=\"delete\"/>\n",
      "      <unit>\n",
      "        <name>0</name>\n",
      "        <description>ge-0/0/0.0</description>\n",
      "        <family>\n",
      "          <inet/>\n",
      "        </family>\n",
      "      </unit>\n",
      "    </interface>\n",
      "    <interface>\n",
      "      <name>ge-0/0/1</name>\n",
      "      <description>ge-0/0/1</description>\n",
      "      <disable/>\n",
      "      <mtu>1514</mtu>\n",
      "    </interface>\n",
      "    <interface>\n",
      "      <name>ae0</name>\n",
      "      <description>ae0</description>\n",
      "      <mtu>1514</mtu>\n",
      "      <unit>\n",
      "        <name>0</name>\n",
      "        <description>ASDASDASD</description>\n",
      "        <family>\n",
      "          <inet>\n",
      "            <address>\n",
      "              <name>192.168.100.1/24</name>\n",
      "            </address>\n",
      "            <address>\n",
      "              <name>172.20.100.1/24</name>\n",
      "            </address>\n",
      "          </inet>\n",
      "        </family>\n",
      "        <vlan-id>100</vlan-id>\n",
      "      </unit>\n",
      "      <vlan-tagging/>\n",
      "      <unit>\n",
      "        <name>1</name>\n",
      "        <description>ae0.1</description>\n",
      "        <family>\n",
      "          <inet>\n",
      "            <address>\n",
      "              <name>192.168.101.1/24</name>\n",
      "            </address>\n",
      "          </inet>\n",
      "        </family>\n",
      "        <vlan-id>1</vlan-id>\n",
      "      </unit>\n",
      "      <vlan-tagging/>\n",
      "      <unit>\n",
      "        <name>2</name>\n",
      "        <description>ae0.2</description>\n",
      "        <family>\n",
      "          <inet>\n",
      "            <address>\n",
      "              <name>192.168.102.1/24</name>\n",
      "            </address>\n",
      "          </inet>\n",
      "        </family>\n",
      "        <vlan-id>2</vlan-id>\n",
      "      </unit>\n",
      "      <vlan-tagging/>\n",
      "    </interface>\n",
      "    <interface>\n",
      "      <name>lo0</name>\n",
      "      <description>lo0</description>\n",
      "      <unit>\n",
      "        <name>1</name>\n",
      "        <description>new loopback</description>\n",
      "      </unit>\n",
      "      <unit delete=\"delete\">\n",
      "        <name>0</name>\n",
      "      </unit>\n",
      "    </interface>\n",
      "  </interfaces>\n",
      "</configuration>\n",
      "\n"
     ]
    }
   ],
   "source": [
    "# Now let's see how the merge configuration would be\n",
    "with junos_device as d:\n",
    "    config = candidate.translate(d, merge=running)\n",
    "print(config)"
   ]
  },
  {
   "cell_type": "markdown",
   "metadata": {},
   "source": [
    "Note the \"delete\" tags. Let's actually load the configuration in the device and see which changes are reported."
   ]
  },
  {
   "cell_type": "code",
   "execution_count": 18,
   "metadata": {
    "collapsed": false
   },
   "outputs": [
    {
     "name": "stdout",
     "output_type": "stream",
     "text": [
      "[edit interfaces ge-0/0/0]\n",
      "-   mtu 1400;\n",
      "[edit interfaces lo0]\n",
      "-    unit 0 {\n",
      "-        description lo0.0;\n",
      "-    }\n",
      "+    unit 1 {\n",
      "+        description \"new loopback\";\n",
      "+    }\n"
     ]
    }
   ],
   "source": [
    "with junos_device as d:\n",
    "    d.load_merge_candidate(config=config)\n",
    "    print(d.compare_config())\n",
    "    d.discard_config()"
   ]
  },
  {
   "cell_type": "markdown",
   "metadata": {},
   "source": [
    "You can see that the device is reporting the changes we expected. Let's try now a replace instead."
   ]
  },
  {
   "cell_type": "code",
   "execution_count": 19,
   "metadata": {
    "collapsed": false
   },
   "outputs": [
    {
     "name": "stdout",
     "output_type": "stream",
     "text": [
      "<configuration>\n",
      "  <interfaces replace=\"replace\">\n",
      "    <interface>\n",
      "      <name>ge-0/0/0</name>\n",
      "      <description>management interfaces</description>\n",
      "      <unit>\n",
      "        <name>0</name>\n",
      "        <description>ge-0/0/0.0</description>\n",
      "        <family>\n",
      "          <inet/>\n",
      "        </family>\n",
      "      </unit>\n",
      "    </interface>\n",
      "    <interface>\n",
      "      <name>ge-0/0/1</name>\n",
      "      <description>ge-0/0/1</description>\n",
      "      <disable/>\n",
      "      <mtu>1514</mtu>\n",
      "    </interface>\n",
      "    <interface>\n",
      "      <name>ae0</name>\n",
      "      <description>ae0</description>\n",
      "      <mtu>1514</mtu>\n",
      "      <unit>\n",
      "        <name>0</name>\n",
      "        <description>ASDASDASD</description>\n",
      "        <family>\n",
      "          <inet>\n",
      "            <address>\n",
      "              <name>192.168.100.1/24</name>\n",
      "            </address>\n",
      "            <address>\n",
      "              <name>172.20.100.1/24</name>\n",
      "            </address>\n",
      "          </inet>\n",
      "        </family>\n",
      "        <vlan-id>100</vlan-id>\n",
      "      </unit>\n",
      "      <vlan-tagging/>\n",
      "      <unit>\n",
      "        <name>1</name>\n",
      "        <description>ae0.1</description>\n",
      "        <family>\n",
      "          <inet>\n",
      "            <address>\n",
      "              <name>192.168.101.1/24</name>\n",
      "            </address>\n",
      "          </inet>\n",
      "        </family>\n",
      "        <vlan-id>1</vlan-id>\n",
      "      </unit>\n",
      "      <vlan-tagging/>\n",
      "      <unit>\n",
      "        <name>2</name>\n",
      "        <description>ae0.2</description>\n",
      "        <family>\n",
      "          <inet>\n",
      "            <address>\n",
      "              <name>192.168.102.1/24</name>\n",
      "            </address>\n",
      "          </inet>\n",
      "        </family>\n",
      "        <vlan-id>2</vlan-id>\n",
      "      </unit>\n",
      "      <vlan-tagging/>\n",
      "    </interface>\n",
      "    <interface>\n",
      "      <name>lo0</name>\n",
      "      <description>lo0</description>\n",
      "      <unit>\n",
      "        <name>1</name>\n",
      "        <description>new loopback</description>\n",
      "      </unit>\n",
      "    </interface>\n",
      "  </interfaces>\n",
      "</configuration>\n",
      "\n"
     ]
    }
   ],
   "source": [
    "with junos_device as d:\n",
    "    config = candidate.translate(d, replace=running)\n",
    "print(config)"
   ]
  },
  {
   "cell_type": "markdown",
   "metadata": {},
   "source": [
    "Note that instead of \"delete\", now we have a replace in one of the top containers, indicating to the device we want to replace everything underneath. Let's merge and see what happens:"
   ]
  },
  {
   "cell_type": "code",
   "execution_count": 20,
   "metadata": {
    "collapsed": false
   },
   "outputs": [
    {
     "name": "stdout",
     "output_type": "stream",
     "text": [
      "[edit interfaces ge-0/0/0]\n",
      "-   mtu 1400;\n",
      "[edit interfaces ge-0/0/0 unit 0 family inet]\n",
      "-       dhcp;\n",
      "[edit interfaces lo0]\n",
      "-    unit 0 {\n",
      "-        description lo0.0;\n",
      "-    }\n",
      "+    unit 1 {\n",
      "+        description \"new loopback\";\n",
      "+    }\n"
     ]
    }
   ],
   "source": [
    "with junos_device as d:\n",
    "    d.load_merge_candidate(config=config)\n",
    "    print(d.compare_config())\n",
    "    d.discard_config()"
   ]
  },
  {
   "cell_type": "markdown",
   "metadata": {},
   "source": [
    "Interestingly, there is an extra change. That is due to the fact that the `dhcp` parameter is outside our model's control."
   ]
  },
  {
   "cell_type": "markdown",
   "metadata": {},
   "source": [
    "### Not so friendly platforms\n",
    "\n",
    "This also works with not so friendly platforms. Let's do the same we did in the previous section with an EOS device."
   ]
  },
  {
   "cell_type": "code",
   "execution_count": 21,
   "metadata": {
    "collapsed": false
   },
   "outputs": [],
   "source": [
    "# first let's create a candidate config by retrieving the current state of the device\n",
    "candidate = napalm_yang.BaseBinding()\n",
    "candidate.add_model(napalm_yang.oc_if.interfaces())\n",
    "candidate.get_config(device=eos_device)\n",
    "\n",
    "# now let's do a few changes, let's remove lo1 and create lo0\n",
    "candidate.interfaces.interface.pop(\"Loopback1\")\n",
    "lo0 = candidate.interfaces.interface.new_element(\"Loopback0\")\n",
    "lo0.config.description(\"new loopback\")\n",
    "\n",
    "# Let's also default the mtu of ge-0/0/0 which is set to 1400\n",
    "candidate.interfaces.interface[\"Port-Channel1\"].config.mtu(None)\n",
    "\n",
    "# We will also need a running configuration to compare against\n",
    "running = napalm_yang.BaseBinding()\n",
    "running.add_model(napalm_yang.oc_if.interfaces())\n",
    "running.get_config(device=eos_device)"
   ]
  },
  {
   "cell_type": "code",
   "execution_count": 22,
   "metadata": {
    "collapsed": false
   },
   "outputs": [
    {
     "name": "stdout",
     "output_type": "stream",
     "text": [
      "interface Port-Channel1\n",
      "    default mtu\n",
      "interface Port-Channel1.1\n",
      "interface Ethernet1\n",
      "interface Ethernet2\n",
      "interface Ethernet2.1\n",
      "interface Ethernet2.2\n",
      "interface Management1\n",
      "interface Loopback0\n",
      "    description new loopback\n",
      "default interface Loopback1\n",
      "\n"
     ]
    }
   ],
   "source": [
    "# Now let's see how the merge configuration would be\n",
    "with eos_device as d:\n",
    "    config = candidate.translate(d, merge=running)\n",
    "print(config)"
   ]
  },
  {
   "cell_type": "code",
   "execution_count": 23,
   "metadata": {
    "collapsed": false
   },
   "outputs": [
    {
     "name": "stdout",
     "output_type": "stream",
     "text": [
      "@@ -19,7 +19,6 @@\n",
      " !\n",
      " interface Port-Channel1\n",
      "    description blah\n",
      "-   mtu 9000\n",
      "    no switchport\n",
      " !\n",
      " interface Port-Channel1.1\n",
      "@@ -46,8 +45,10 @@\n",
      "    encapsulation dot1q vlan 2\n",
      "    ip address 192.168.2.1/24\n",
      " !\n",
      "+interface Loopback0\n",
      "+   description new loopback\n",
      "+!\n",
      " interface Loopback1\n",
      "-   description a loopback\n",
      " !\n",
      " interface Management1\n",
      "    ip address 10.0.2.15/24\n"
     ]
    }
   ],
   "source": [
    "with eos_device as d:\n",
    "    d.load_merge_candidate(config=config)\n",
    "    print(d.compare_config())\n",
    "    d.discard_config()"
   ]
  },
  {
   "cell_type": "markdown",
   "metadata": {},
   "source": [
    "As in the previous example, we got exactly the same changes we were expecting."
   ]
  },
  {
   "cell_type": "code",
   "execution_count": 24,
   "metadata": {
    "collapsed": false
   },
   "outputs": [
    {
     "name": "stdout",
     "output_type": "stream",
     "text": [
      "default interface Port-Channel1\n",
      "interface Port-Channel1\n",
      "    description blah\n",
      "    no switchport\n",
      "    no switchport\n",
      "no interface Port-Channel1.1\n",
      "interface Port-Channel1.1\n",
      "default interface Ethernet1\n",
      "interface Ethernet1\n",
      "    description This is a description\n",
      "default interface Ethernet2\n",
      "interface Ethernet2\n",
      "    description so much oc\n",
      "    shutdown\n",
      "    mtu 1500\n",
      "    ip address 192.168.0.1/24 \n",
      "    no switchport\n",
      "    no switchport\n",
      "    no switchport\n",
      "no interface Ethernet2.1\n",
      "interface Ethernet2.1\n",
      "    description another subiface\n",
      "    ip address 192.168.1.1/24 \n",
      "    ip address 172.20.0.1/24 secondary\n",
      "    encapsulation dot1q vlan 1\n",
      "no interface Ethernet2.2\n",
      "interface Ethernet2.2\n",
      "    description asdasdasd\n",
      "    ip address 192.168.2.1/24 \n",
      "    encapsulation dot1q vlan 2\n",
      "default interface Management1\n",
      "interface Management1\n",
      "    mtu 1500\n",
      "    ip address 10.0.2.15/24 \n",
      "default interface Loopback0\n",
      "interface Loopback0\n",
      "    description new loopback\n",
      "default interface Loopback1\n",
      "\n"
     ]
    }
   ],
   "source": [
    "with eos_device as d:\n",
    "    config = candidate.translate(d, replace=running)\n",
    "print(config)"
   ]
  },
  {
   "cell_type": "code",
   "execution_count": 25,
   "metadata": {
    "collapsed": false
   },
   "outputs": [
    {
     "name": "stdout",
     "output_type": "stream",
     "text": [
      "@@ -19,15 +19,12 @@\n",
      " !\n",
      " interface Port-Channel1\n",
      "    description blah\n",
      "-   mtu 9000\n",
      "    no switchport\n",
      " !\n",
      " interface Port-Channel1.1\n",
      " !\n",
      " interface Ethernet1\n",
      "    description This is a description\n",
      "-   dcbx mode ieee\n",
      "-   channel-group 1 mode active\n",
      " !\n",
      " interface Ethernet2\n",
      "    description so much oc\n",
      "@@ -46,8 +43,10 @@\n",
      "    encapsulation dot1q vlan 2\n",
      "    ip address 192.168.2.1/24\n",
      " !\n",
      "+interface Loopback0\n",
      "+   description new loopback\n",
      "+!\n",
      " interface Loopback1\n",
      "-   description a loopback\n",
      " !\n",
      " interface Management1\n",
      "    ip address 10.0.2.15/24\n"
     ]
    }
   ],
   "source": [
    "with eos_device as d:\n",
    "    d.load_merge_candidate(config=config)\n",
    "    print(d.compare_config())\n",
    "    d.discard_config()"
   ]
  },
  {
   "cell_type": "markdown",
   "metadata": {},
   "source": [
    "With the replace instead, we got some extra changes as some things are outside our model's control."
   ]
  },
  {
   "cell_type": "markdown",
   "metadata": {},
   "source": [
    "### Generate config, merge or replace\n",
    "\n",
    "Which of the three methods to choose is very subjective and it will depend on your operations:\n",
    "\n",
    "* Generating configuration. The drawback of this one is that configuration is only applied, never removed so it's good for places where you don't know or control most of your configuration.\n",
    "* \"Merge\" configuration. This one is good to keep some configuration in a known state while leaving other outside it.\n",
    "* \"Replace\" configuration. This one allows you to fully control the configuration. If you can use this, it means you dictate the fate of your network and not the other way around."
   ]
  }
 ],
 "metadata": {
  "celltoolbar": "Slideshow",
  "kernelspec": {
   "display_name": "Python 2",
   "language": "python",
   "name": "python2"
  },
  "language_info": {
   "codemirror_mode": {
    "name": "ipython",
    "version": 2
   },
   "file_extension": ".py",
   "mimetype": "text/x-python",
   "name": "python",
   "nbconvert_exporter": "python",
   "pygments_lexer": "ipython2",
   "version": "2.7.12"
  }
 },
 "nbformat": 4,
 "nbformat_minor": 2
}
