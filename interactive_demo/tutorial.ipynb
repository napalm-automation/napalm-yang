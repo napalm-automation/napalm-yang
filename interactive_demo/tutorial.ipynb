{
 "cells": [
  {
   "cell_type": "markdown",
   "metadata": {
    "deletable": true,
    "editable": true,
    "slideshow": {
     "slide_type": "slide"
    }
   },
   "source": [
    "# Basics\n",
    "Let's start with some basics, we will use the following objects as the base for the rest of the tutorial."
   ]
  },
  {
   "cell_type": "code",
   "execution_count": 1,
   "metadata": {
    "collapsed": false,
    "deletable": true,
    "editable": true,
    "slideshow": {
     "slide_type": "subslide"
    }
   },
   "outputs": [],
   "source": [
    "from napalm_base import get_network_driver\n",
    "import napalm_yang\n",
    "\n",
    "import json\n",
    "\n",
    "junos_configuration = {\n",
    "    'hostname': '127.0.0.1',\n",
    "    'username': 'vagrant',\n",
    "    'password': '',\n",
    "    'optional_args': {'port': 12203, 'config_lock': False}\n",
    "}\n",
    "\n",
    "eos_configuration = {\n",
    "    'hostname': '127.0.0.1',\n",
    "    'username': 'vagrant',\n",
    "    'password': 'vagrant',\n",
    "    'optional_args': {'port': 12443}\n",
    "}\n",
    "\n",
    "junos = get_network_driver(\"junos\")\n",
    "junos_device = junos(**junos_configuration)\n",
    "\n",
    "eos = get_network_driver(\"eos\")\n",
    "eos_device = eos(**eos_configuration)\n",
    "\n",
    "def pretty_print(dictionary):\n",
    "    print(json.dumps(dictionary, sort_keys=True, indent=4))"
   ]
  },
  {
   "cell_type": "markdown",
   "metadata": {
    "deletable": true,
    "editable": true,
    "slideshow": {
     "slide_type": "slide"
    }
   },
   "source": [
    "# Creating a Binding\n",
    "\n",
    "To work with YANG models you first create a root object with  ``napalm_yang.base.Root()`` and then you add as many models as you want with the `add_model` method:"
   ]
  },
  {
   "cell_type": "code",
   "execution_count": 2,
   "metadata": {
    "collapsed": false,
    "deletable": true,
    "editable": true,
    "scrolled": false,
    "slideshow": {
     "slide_type": "-"
    }
   },
   "outputs": [],
   "source": [
    "config = napalm_yang.base.Root()\n",
    "\n",
    "# Adding models to the object\n",
    "config.add_model(napalm_yang.models.openconfig_interfaces())\n",
    "config.add_model(napalm_yang.models.openconfig_vlan())"
   ]
  },
  {
   "cell_type": "markdown",
   "metadata": {
    "deletable": true,
    "editable": true,
    "slideshow": {
     "slide_type": "slide"
    }
   },
   "source": [
    "At this point, you can use the \"util\" ``model_to_dict()`` to visualize the binding and the attached models:"
   ]
  },
  {
   "cell_type": "code",
   "execution_count": 3,
   "metadata": {
    "collapsed": false,
    "deletable": true,
    "editable": true,
    "scrolled": true,
    "slideshow": {
     "slide_type": "-"
    }
   },
   "outputs": [
    {
     "name": "stdout",
     "output_type": "stream",
     "text": [
      "{\n",
      "    \"openconfig-interfaces:interfaces [rw]\": {\n",
      "        \"interface [rw]\": {\n",
      "            \"config [rw]\": {\n",
      "                \"description [rw]\": \"string\", \n",
      "                \"enabled [rw]\": \"boolean\", \n",
      "                \"mtu [rw]\": \"uint16\", \n",
      "                \"name [rw]\": \"string\", \n",
      "                \"type [rw]\": \"identityref\"\n",
      "            }, \n",
      "            \"hold_time [rw]\": {\n",
      "                \"config [rw]\": {\n",
      "                    \"down [rw]\": \"uint32\", \n",
      "                    \"up [rw]\": \"uint32\"\n",
      "                }, \n",
      "                \"state [rw]\": {\n",
      "                    \"down [ro]\": \"uint32\", \n",
      "                    \"up [ro]\": \"uint32\"\n",
      "                }\n",
      "            }, \n",
      "            \"name [rw]\": \"leafref\", \n",
      "            \"openconfig-if-aggregate:aggregation [rw]\": {\n",
      "                \"config [rw]\": {\n",
      "                    \"lag_type [rw]\": \"aggregation-type\", \n",
      "                    \"min_links [rw]\": \"uint16\"\n",
      "                }, \n",
      "                \"openconfig-vlan:switched_vlan [rw]\": {\n",
      "                    \"config [rw]\": {\n",
      "                        \"access_vlan [rw]\": \"union\", \n",
      "                        \"interface_mode [rw]\": \"oc-vlan-types:vlan-mode-type\", \n",
      "                        \"native_vlan [rw]\": \"union\", \n",
      "                        \"trunk_vlans [rw]\": \"union\"\n",
      "                    }, \n",
      "                    \"state [rw]\": {\n",
      "                        \"access_vlan [ro]\": \"union\", \n",
      "                        \"interface_mode [ro]\": \"oc-vlan-types:vlan-mode-type\", \n",
      "                        \"native_vlan [ro]\": \"union\", \n",
      "                        \"trunk_vlans [ro]\": \"union\"\n",
      "                    }\n",
      "                }, \n",
      "                \"state [rw]\": {\n",
      "                    \"lag_speed [ro]\": \"uint32\", \n",
      "                    \"lag_type [ro]\": \"aggregation-type\", \n",
      "                    \"member [ro]\": \"oc-if:base-interface-ref\", \n",
      "                    \"min_links [ro]\": \"uint16\"\n",
      "                }\n",
      "            }, \n",
      "            \"openconfig-if-ethernet:ethernet [rw]\": {\n",
      "                \"config [rw]\": {\n",
      "                    \"auto_negotiate [rw]\": \"boolean\", \n",
      "                    \"duplex_mode [rw]\": \"enumeration\", \n",
      "                    \"enable_flow_control [rw]\": \"boolean\", \n",
      "                    \"mac_address [rw]\": \"yang:mac-address\", \n",
      "                    \"openconfig-if-aggregate:aggregate_id [rw]\": \"leafref\", \n",
      "                    \"port_speed [rw]\": \"identityref\"\n",
      "                }, \n",
      "                \"openconfig-vlan:switched_vlan [rw]\": {\n",
      "                    \"config [rw]\": {\n",
      "                        \"access_vlan [rw]\": \"union\", \n",
      "                        \"interface_mode [rw]\": \"oc-vlan-types:vlan-mode-type\", \n",
      "                        \"native_vlan [rw]\": \"union\", \n",
      "                        \"trunk_vlans [rw]\": \"union\"\n",
      "                    }, \n",
      "                    \"state [rw]\": {\n",
      "                        \"access_vlan [ro]\": \"union\", \n",
      "                        \"interface_mode [ro]\": \"oc-vlan-types:vlan-mode-type\", \n",
      "                        \"native_vlan [ro]\": \"union\", \n",
      "                        \"trunk_vlans [ro]\": \"union\"\n",
      "                    }\n",
      "                }, \n",
      "                \"state [rw]\": {\n",
      "                    \"auto_negotiate [ro]\": \"boolean\", \n",
      "                    \"counters [ro]\": {\n",
      "                        \"in_8021q_frames [ro]\": \"yang:counter64\", \n",
      "                        \"in_crc_errors [ro]\": \"yang:counter64\", \n",
      "                        \"in_fragment_frames [ro]\": \"yang:counter64\", \n",
      "                        \"in_jabber_frames [ro]\": \"yang:counter64\", \n",
      "                        \"in_mac_control_frames [ro]\": \"yang:counter64\", \n",
      "                        \"in_mac_pause_frames [ro]\": \"yang:counter64\", \n",
      "                        \"in_oversize_frames [ro]\": \"yang:counter64\", \n",
      "                        \"out_8021q_frames [ro]\": \"yang:counter64\", \n",
      "                        \"out_mac_control_frames [ro]\": \"yang:counter64\", \n",
      "                        \"out_mac_pause_frames [ro]\": \"yang:counter64\"\n",
      "                    }, \n",
      "                    \"duplex_mode [ro]\": \"enumeration\", \n",
      "                    \"effective_speed [ro]\": \"uint32\", \n",
      "                    \"enable_flow_control [ro]\": \"boolean\", \n",
      "                    \"hw_mac_address [ro]\": \"yang:mac-address\", \n",
      "                    \"mac_address [ro]\": \"yang:mac-address\", \n",
      "                    \"negotiated_duplex_mode [ro]\": \"enumeration\", \n",
      "                    \"negotiated_port_speed [ro]\": \"identityref\", \n",
      "                    \"openconfig-if-aggregate:aggregate_id [ro]\": \"leafref\", \n",
      "                    \"port_speed [ro]\": \"identityref\"\n",
      "                }\n",
      "            }, \n",
      "            \"openconfig-vlan:routed_vlan [rw]\": {\n",
      "                \"config [rw]\": {\n",
      "                    \"vlan [rw]\": \"union\"\n",
      "                }, \n",
      "                \"openconfig-if-ip:ipv4 [rw]\": {\n",
      "                    \"addresses [rw]\": {\n",
      "                        \"address [rw]\": {\n",
      "                            \"config [rw]\": {\n",
      "                                \"ip [rw]\": \"inet:ipv4-address-no-zone\", \n",
      "                                \"napalm-if-ip:secondary [rw]\": \"boolean\", \n",
      "                                \"prefix_length [rw]\": \"uint8\"\n",
      "                            }, \n",
      "                            \"ip [rw]\": \"leafref\", \n",
      "                            \"state [rw]\": {\n",
      "                                \"ip [ro]\": \"inet:ipv4-address-no-zone\", \n",
      "                                \"origin [ro]\": \"ip-address-origin\", \n",
      "                                \"prefix_length [ro]\": \"uint8\"\n",
      "                            }, \n",
      "                            \"vrrp [rw]\": {\n",
      "                                \"vrrp_group [rw]\": {\n",
      "                                    \"config [rw]\": {\n",
      "                                        \"accept_mode [rw]\": \"boolean\", \n",
      "                                        \"advertisement_interval [rw]\": \"uint16\", \n",
      "                                        \"preempt [rw]\": \"boolean\", \n",
      "                                        \"preempt_delay [rw]\": \"uint16\", \n",
      "                                        \"priority [rw]\": \"uint8\", \n",
      "                                        \"virtual_address [rw]\": \"inet:ip-address\", \n",
      "                                        \"virtual_router_id [rw]\": \"uint8\"\n",
      "                                    }, \n",
      "                                    \"interface_tracking [rw]\": {\n",
      "                                        \"config [rw]\": {\n",
      "                                            \"priority_decrement [rw]\": \"uint8\", \n",
      "                                            \"track_interface [rw]\": \"leafref\"\n",
      "                                        }, \n",
      "                                        \"state [rw]\": {\n",
      "                                            \"priority_decrement [ro]\": \"uint8\", \n",
      "                                            \"track_interface [ro]\": \"leafref\"\n",
      "                                        }\n",
      "                                    }, \n",
      "                                    \"state [rw]\": {\n",
      "                                        \"accept_mode [ro]\": \"boolean\", \n",
      "                                        \"advertisement_interval [ro]\": \"uint16\", \n",
      "                                        \"current_priority [ro]\": \"uint8\", \n",
      "                                        \"preempt [ro]\": \"boolean\", \n",
      "                                        \"preempt_delay [ro]\": \"uint16\", \n",
      "                                        \"priority [ro]\": \"uint8\", \n",
      "                                        \"virtual_address [ro]\": \"inet:ip-address\", \n",
      "                                        \"virtual_router_id [ro]\": \"uint8\"\n",
      "                                    }, \n",
      "                                    \"virtual_router_id [rw]\": \"leafref\"\n",
      "                                }\n",
      "                            }\n",
      "                        }\n",
      "                    }, \n",
      "                    \"config [rw]\": {\n",
      "                        \"enabled [rw]\": \"boolean\", \n",
      "                        \"mtu [rw]\": \"uint16\"\n",
      "                    }, \n",
      "                    \"neighbors [rw]\": {\n",
      "                        \"neighbor [rw]\": {\n",
      "                            \"config [rw]\": {\n",
      "                                \"ip [rw]\": \"inet:ipv4-address-no-zone\", \n",
      "                                \"link_layer_address [rw]\": \"yang:phys-address\"\n",
      "                            }, \n",
      "                            \"ip [rw]\": \"leafref\", \n",
      "                            \"state [rw]\": {\n",
      "                                \"ip [ro]\": \"inet:ipv4-address-no-zone\", \n",
      "                                \"link_layer_address [ro]\": \"yang:phys-address\", \n",
      "                                \"origin [ro]\": \"neighbor-origin\"\n",
      "                            }\n",
      "                        }\n",
      "                    }, \n",
      "                    \"state [rw]\": {\n",
      "                        \"enabled [ro]\": \"boolean\", \n",
      "                        \"mtu [ro]\": \"uint16\"\n",
      "                    }, \n",
      "                    \"unnumbered [rw]\": {\n",
      "                        \"config [rw]\": {\n",
      "                            \"enabled [rw]\": \"boolean\"\n",
      "                        }, \n",
      "                        \"interface_ref [rw]\": {\n",
      "                            \"config [rw]\": {\n",
      "                                \"interface [rw]\": \"leafref\", \n",
      "                                \"subinterface [rw]\": \"leafref\"\n",
      "                            }, \n",
      "                            \"state [rw]\": {\n",
      "                                \"interface [ro]\": \"leafref\", \n",
      "                                \"subinterface [ro]\": \"leafref\"\n",
      "                            }\n",
      "                        }, \n",
      "                        \"state [rw]\": {\n",
      "                            \"enabled [ro]\": \"boolean\"\n",
      "                        }\n",
      "                    }\n",
      "                }, \n",
      "                \"openconfig-if-ip:ipv6 [rw]\": {\n",
      "                    \"addresses [rw]\": {\n",
      "                        \"address [rw]\": {\n",
      "                            \"config [rw]\": {\n",
      "                                \"ip [rw]\": \"inet:ipv6-address-no-zone\", \n",
      "                                \"prefix_length [rw]\": \"uint8\"\n",
      "                            }, \n",
      "                            \"ip [rw]\": \"leafref\", \n",
      "                            \"state [rw]\": {\n",
      "                                \"ip [ro]\": \"inet:ipv6-address-no-zone\", \n",
      "                                \"origin [ro]\": \"ip-address-origin\", \n",
      "                                \"prefix_length [ro]\": \"uint8\", \n",
      "                                \"status [ro]\": \"enumeration\"\n",
      "                            }, \n",
      "                            \"vrrp [rw]\": {\n",
      "                                \"vrrp_group [rw]\": {\n",
      "                                    \"config [rw]\": {\n",
      "                                        \"accept_mode [rw]\": \"boolean\", \n",
      "                                        \"advertisement_interval [rw]\": \"uint16\", \n",
      "                                        \"preempt [rw]\": \"boolean\", \n",
      "                                        \"preempt_delay [rw]\": \"uint16\", \n",
      "                                        \"priority [rw]\": \"uint8\", \n",
      "                                        \"virtual_address [rw]\": \"inet:ip-address\", \n",
      "                                        \"virtual_link_local [rw]\": \"inet:ip-address\", \n",
      "                                        \"virtual_router_id [rw]\": \"uint8\"\n",
      "                                    }, \n",
      "                                    \"interface_tracking [rw]\": {\n",
      "                                        \"config [rw]\": {\n",
      "                                            \"priority_decrement [rw]\": \"uint8\", \n",
      "                                            \"track_interface [rw]\": \"leafref\"\n",
      "                                        }, \n",
      "                                        \"state [rw]\": {\n",
      "                                            \"priority_decrement [ro]\": \"uint8\", \n",
      "                                            \"track_interface [ro]\": \"leafref\"\n",
      "                                        }\n",
      "                                    }, \n",
      "                                    \"state [rw]\": {\n",
      "                                        \"accept_mode [ro]\": \"boolean\", \n",
      "                                        \"advertisement_interval [ro]\": \"uint16\", \n",
      "                                        \"current_priority [ro]\": \"uint8\", \n",
      "                                        \"preempt [ro]\": \"boolean\", \n",
      "                                        \"preempt_delay [ro]\": \"uint16\", \n",
      "                                        \"priority [ro]\": \"uint8\", \n",
      "                                        \"virtual_address [ro]\": \"inet:ip-address\", \n",
      "                                        \"virtual_link_local [ro]\": \"inet:ip-address\", \n",
      "                                        \"virtual_router_id [ro]\": \"uint8\"\n",
      "                                    }, \n",
      "                                    \"virtual_router_id [rw]\": \"leafref\"\n",
      "                                }\n",
      "                            }\n",
      "                        }\n",
      "                    }, \n",
      "                    \"config [rw]\": {\n",
      "                        \"dup_addr_detect_transmits [rw]\": \"uint32\", \n",
      "                        \"enabled [rw]\": \"boolean\", \n",
      "                        \"mtu [rw]\": \"uint32\"\n",
      "                    }, \n",
      "                    \"neighbors [rw]\": {\n",
      "                        \"neighbor [rw]\": {\n",
      "                            \"config [rw]\": {\n",
      "                                \"ip [rw]\": \"inet:ipv6-address-no-zone\", \n",
      "                                \"link_layer_address [rw]\": \"yang:phys-address\"\n",
      "                            }, \n",
      "                            \"ip [rw]\": \"leafref\", \n",
      "                            \"state [rw]\": {\n",
      "                                \"ip [ro]\": \"inet:ipv6-address-no-zone\", \n",
      "                                \"is_router [ro]\": \"empty\", \n",
      "                                \"link_layer_address [ro]\": \"yang:phys-address\", \n",
      "                                \"neighbor_state [ro]\": \"enumeration\", \n",
      "                                \"origin [ro]\": \"neighbor-origin\"\n",
      "                            }\n",
      "                        }\n",
      "                    }, \n",
      "                    \"state [rw]\": {\n",
      "                        \"dup_addr_detect_transmits [ro]\": \"uint32\", \n",
      "                        \"enabled [ro]\": \"boolean\", \n",
      "                        \"mtu [ro]\": \"uint32\"\n",
      "                    }, \n",
      "                    \"unnumbered [rw]\": {\n",
      "                        \"config [rw]\": {\n",
      "                            \"enabled [rw]\": \"boolean\"\n",
      "                        }, \n",
      "                        \"interface_ref [rw]\": {\n",
      "                            \"config [rw]\": {\n",
      "                                \"interface [rw]\": \"leafref\", \n",
      "                                \"subinterface [rw]\": \"leafref\"\n",
      "                            }, \n",
      "                            \"state [rw]\": {\n",
      "                                \"interface [ro]\": \"leafref\", \n",
      "                                \"subinterface [ro]\": \"leafref\"\n",
      "                            }\n",
      "                        }, \n",
      "                        \"state [rw]\": {\n",
      "                            \"enabled [ro]\": \"boolean\"\n",
      "                        }\n",
      "                    }\n",
      "                }, \n",
      "                \"state [rw]\": {\n",
      "                    \"vlan [ro]\": \"union\"\n",
      "                }\n",
      "            }, \n",
      "            \"state [rw]\": {\n",
      "                \"admin_status [ro]\": \"enumeration\", \n",
      "                \"counters [ro]\": {\n",
      "                    \"in_broadcast_pkts [ro]\": \"yang:counter64\", \n",
      "                    \"in_discards [ro]\": \"yang:counter64\", \n",
      "                    \"in_errors [ro]\": \"yang:counter64\", \n",
      "                    \"in_multicast_pkts [ro]\": \"yang:counter64\", \n",
      "                    \"in_octets [ro]\": \"yang:counter64\", \n",
      "                    \"in_unicast_pkts [ro]\": \"yang:counter64\", \n",
      "                    \"in_unknown_protos [ro]\": \"yang:counter32\", \n",
      "                    \"last_clear [ro]\": \"yang:date-and-time\", \n",
      "                    \"out_broadcast_pkts [ro]\": \"yang:counter64\", \n",
      "                    \"out_discards [ro]\": \"yang:counter64\", \n",
      "                    \"out_errors [ro]\": \"yang:counter64\", \n",
      "                    \"out_multicast_pkts [ro]\": \"yang:counter64\", \n",
      "                    \"out_octets [ro]\": \"yang:counter64\", \n",
      "                    \"out_unicast_pkts [ro]\": \"yang:counter64\"\n",
      "                }, \n",
      "                \"description [ro]\": \"string\", \n",
      "                \"enabled [ro]\": \"boolean\", \n",
      "                \"ifindex [ro]\": \"uint32\", \n",
      "                \"last_change [ro]\": \"yang:timeticks\", \n",
      "                \"mtu [ro]\": \"uint16\", \n",
      "                \"name [ro]\": \"string\", \n",
      "                \"openconfig-platform-transceiver:physical_channel [ro]\": \"leafref\", \n",
      "                \"openconfig-platform:hardware_port [ro]\": \"leafref\", \n",
      "                \"oper_status [ro]\": \"enumeration\", \n",
      "                \"type [ro]\": \"identityref\"\n",
      "            }, \n",
      "            \"subinterfaces [rw]\": {\n",
      "                \"subinterface [rw]\": {\n",
      "                    \"config [rw]\": {\n",
      "                        \"description [rw]\": \"string\", \n",
      "                        \"enabled [rw]\": \"boolean\", \n",
      "                        \"index [rw]\": \"uint32\", \n",
      "                        \"name [rw]\": \"string\"\n",
      "                    }, \n",
      "                    \"index [rw]\": \"leafref\", \n",
      "                    \"openconfig-if-ip:ipv4 [rw]\": {\n",
      "                        \"addresses [rw]\": {\n",
      "                            \"address [rw]\": {\n",
      "                                \"config [rw]\": {\n",
      "                                    \"ip [rw]\": \"inet:ipv4-address-no-zone\", \n",
      "                                    \"napalm-if-ip:secondary [rw]\": \"boolean\", \n",
      "                                    \"prefix_length [rw]\": \"uint8\"\n",
      "                                }, \n",
      "                                \"ip [rw]\": \"leafref\", \n",
      "                                \"state [rw]\": {\n",
      "                                    \"ip [ro]\": \"inet:ipv4-address-no-zone\", \n",
      "                                    \"origin [ro]\": \"ip-address-origin\", \n",
      "                                    \"prefix_length [ro]\": \"uint8\"\n",
      "                                }, \n",
      "                                \"vrrp [rw]\": {\n",
      "                                    \"vrrp_group [rw]\": {\n",
      "                                        \"config [rw]\": {\n",
      "                                            \"accept_mode [rw]\": \"boolean\", \n",
      "                                            \"advertisement_interval [rw]\": \"uint16\", \n",
      "                                            \"preempt [rw]\": \"boolean\", \n",
      "                                            \"preempt_delay [rw]\": \"uint16\", \n",
      "                                            \"priority [rw]\": \"uint8\", \n",
      "                                            \"virtual_address [rw]\": \"inet:ip-address\", \n",
      "                                            \"virtual_router_id [rw]\": \"uint8\"\n",
      "                                        }, \n",
      "                                        \"interface_tracking [rw]\": {\n",
      "                                            \"config [rw]\": {\n",
      "                                                \"priority_decrement [rw]\": \"uint8\", \n",
      "                                                \"track_interface [rw]\": \"leafref\"\n",
      "                                            }, \n",
      "                                            \"state [rw]\": {\n",
      "                                                \"priority_decrement [ro]\": \"uint8\", \n",
      "                                                \"track_interface [ro]\": \"leafref\"\n",
      "                                            }\n",
      "                                        }, \n",
      "                                        \"state [rw]\": {\n",
      "                                            \"accept_mode [ro]\": \"boolean\", \n",
      "                                            \"advertisement_interval [ro]\": \"uint16\", \n",
      "                                            \"current_priority [ro]\": \"uint8\", \n",
      "                                            \"preempt [ro]\": \"boolean\", \n",
      "                                            \"preempt_delay [ro]\": \"uint16\", \n",
      "                                            \"priority [ro]\": \"uint8\", \n",
      "                                            \"virtual_address [ro]\": \"inet:ip-address\", \n",
      "                                            \"virtual_router_id [ro]\": \"uint8\"\n",
      "                                        }, \n",
      "                                        \"virtual_router_id [rw]\": \"leafref\"\n",
      "                                    }\n",
      "                                }\n",
      "                            }\n",
      "                        }, \n",
      "                        \"config [rw]\": {\n",
      "                            \"enabled [rw]\": \"boolean\", \n",
      "                            \"mtu [rw]\": \"uint16\"\n",
      "                        }, \n",
      "                        \"neighbors [rw]\": {\n",
      "                            \"neighbor [rw]\": {\n",
      "                                \"config [rw]\": {\n",
      "                                    \"ip [rw]\": \"inet:ipv4-address-no-zone\", \n",
      "                                    \"link_layer_address [rw]\": \"yang:phys-address\"\n",
      "                                }, \n",
      "                                \"ip [rw]\": \"leafref\", \n",
      "                                \"state [rw]\": {\n",
      "                                    \"ip [ro]\": \"inet:ipv4-address-no-zone\", \n",
      "                                    \"link_layer_address [ro]\": \"yang:phys-address\", \n",
      "                                    \"origin [ro]\": \"neighbor-origin\"\n",
      "                                }\n",
      "                            }\n",
      "                        }, \n",
      "                        \"state [rw]\": {\n",
      "                            \"enabled [ro]\": \"boolean\", \n",
      "                            \"mtu [ro]\": \"uint16\"\n",
      "                        }, \n",
      "                        \"unnumbered [rw]\": {\n",
      "                            \"config [rw]\": {\n",
      "                                \"enabled [rw]\": \"boolean\"\n",
      "                            }, \n",
      "                            \"interface_ref [rw]\": {\n",
      "                                \"config [rw]\": {\n",
      "                                    \"interface [rw]\": \"leafref\", \n",
      "                                    \"subinterface [rw]\": \"leafref\"\n",
      "                                }, \n",
      "                                \"state [rw]\": {\n",
      "                                    \"interface [ro]\": \"leafref\", \n",
      "                                    \"subinterface [ro]\": \"leafref\"\n",
      "                                }\n",
      "                            }, \n",
      "                            \"state [rw]\": {\n",
      "                                \"enabled [ro]\": \"boolean\"\n",
      "                            }\n",
      "                        }\n",
      "                    }, \n",
      "                    \"openconfig-if-ip:ipv6 [rw]\": {\n",
      "                        \"addresses [rw]\": {\n",
      "                            \"address [rw]\": {\n",
      "                                \"config [rw]\": {\n",
      "                                    \"ip [rw]\": \"inet:ipv6-address-no-zone\", \n",
      "                                    \"prefix_length [rw]\": \"uint8\"\n",
      "                                }, \n",
      "                                \"ip [rw]\": \"leafref\", \n",
      "                                \"state [rw]\": {\n",
      "                                    \"ip [ro]\": \"inet:ipv6-address-no-zone\", \n",
      "                                    \"origin [ro]\": \"ip-address-origin\", \n",
      "                                    \"prefix_length [ro]\": \"uint8\", \n",
      "                                    \"status [ro]\": \"enumeration\"\n",
      "                                }, \n",
      "                                \"vrrp [rw]\": {\n",
      "                                    \"vrrp_group [rw]\": {\n",
      "                                        \"config [rw]\": {\n",
      "                                            \"accept_mode [rw]\": \"boolean\", \n",
      "                                            \"advertisement_interval [rw]\": \"uint16\", \n",
      "                                            \"preempt [rw]\": \"boolean\", \n",
      "                                            \"preempt_delay [rw]\": \"uint16\", \n",
      "                                            \"priority [rw]\": \"uint8\", \n",
      "                                            \"virtual_address [rw]\": \"inet:ip-address\", \n",
      "                                            \"virtual_link_local [rw]\": \"inet:ip-address\", \n",
      "                                            \"virtual_router_id [rw]\": \"uint8\"\n",
      "                                        }, \n",
      "                                        \"interface_tracking [rw]\": {\n",
      "                                            \"config [rw]\": {\n",
      "                                                \"priority_decrement [rw]\": \"uint8\", \n",
      "                                                \"track_interface [rw]\": \"leafref\"\n",
      "                                            }, \n",
      "                                            \"state [rw]\": {\n",
      "                                                \"priority_decrement [ro]\": \"uint8\", \n",
      "                                                \"track_interface [ro]\": \"leafref\"\n",
      "                                            }\n",
      "                                        }, \n",
      "                                        \"state [rw]\": {\n",
      "                                            \"accept_mode [ro]\": \"boolean\", \n",
      "                                            \"advertisement_interval [ro]\": \"uint16\", \n",
      "                                            \"current_priority [ro]\": \"uint8\", \n",
      "                                            \"preempt [ro]\": \"boolean\", \n",
      "                                            \"preempt_delay [ro]\": \"uint16\", \n",
      "                                            \"priority [ro]\": \"uint8\", \n",
      "                                            \"virtual_address [ro]\": \"inet:ip-address\", \n",
      "                                            \"virtual_link_local [ro]\": \"inet:ip-address\", \n",
      "                                            \"virtual_router_id [ro]\": \"uint8\"\n",
      "                                        }, \n",
      "                                        \"virtual_router_id [rw]\": \"leafref\"\n",
      "                                    }\n",
      "                                }\n",
      "                            }\n",
      "                        }, \n",
      "                        \"config [rw]\": {\n",
      "                            \"dup_addr_detect_transmits [rw]\": \"uint32\", \n",
      "                            \"enabled [rw]\": \"boolean\", \n",
      "                            \"mtu [rw]\": \"uint32\"\n",
      "                        }, \n",
      "                        \"neighbors [rw]\": {\n",
      "                            \"neighbor [rw]\": {\n",
      "                                \"config [rw]\": {\n",
      "                                    \"ip [rw]\": \"inet:ipv6-address-no-zone\", \n",
      "                                    \"link_layer_address [rw]\": \"yang:phys-address\"\n",
      "                                }, \n",
      "                                \"ip [rw]\": \"leafref\", \n",
      "                                \"state [rw]\": {\n",
      "                                    \"ip [ro]\": \"inet:ipv6-address-no-zone\", \n",
      "                                    \"is_router [ro]\": \"empty\", \n",
      "                                    \"link_layer_address [ro]\": \"yang:phys-address\", \n",
      "                                    \"neighbor_state [ro]\": \"enumeration\", \n",
      "                                    \"origin [ro]\": \"neighbor-origin\"\n",
      "                                }\n",
      "                            }\n",
      "                        }, \n",
      "                        \"openconfig-if-ip-ext:autoconf [rw]\": {\n",
      "                            \"config [rw]\": {\n",
      "                                \"create_global_addresses [rw]\": \"boolean\", \n",
      "                                \"create_temporary_addresses [rw]\": \"boolean\", \n",
      "                                \"temporary_preferred_lifetime [rw]\": \"uint32\", \n",
      "                                \"temporary_valid_lifetime [rw]\": \"uint32\"\n",
      "                            }, \n",
      "                            \"state [rw]\": {\n",
      "                                \"create_global_addresses [ro]\": \"boolean\", \n",
      "                                \"create_temporary_addresses [ro]\": \"boolean\", \n",
      "                                \"temporary_preferred_lifetime [ro]\": \"uint32\", \n",
      "                                \"temporary_valid_lifetime [ro]\": \"uint32\"\n",
      "                            }\n",
      "                        }, \n",
      "                        \"state [rw]\": {\n",
      "                            \"dup_addr_detect_transmits [ro]\": \"uint32\", \n",
      "                            \"enabled [ro]\": \"boolean\", \n",
      "                            \"mtu [ro]\": \"uint32\"\n",
      "                        }, \n",
      "                        \"unnumbered [rw]\": {\n",
      "                            \"config [rw]\": {\n",
      "                                \"enabled [rw]\": \"boolean\"\n",
      "                            }, \n",
      "                            \"interface_ref [rw]\": {\n",
      "                                \"config [rw]\": {\n",
      "                                    \"interface [rw]\": \"leafref\", \n",
      "                                    \"subinterface [rw]\": \"leafref\"\n",
      "                                }, \n",
      "                                \"state [rw]\": {\n",
      "                                    \"interface [ro]\": \"leafref\", \n",
      "                                    \"subinterface [ro]\": \"leafref\"\n",
      "                                }\n",
      "                            }, \n",
      "                            \"state [rw]\": {\n",
      "                                \"enabled [ro]\": \"boolean\"\n",
      "                            }\n",
      "                        }\n",
      "                    }, \n",
      "                    \"openconfig-vlan:vlan [rw]\": {\n",
      "                        \"config [rw]\": {\n",
      "                            \"vlan_id [rw]\": \"union\"\n",
      "                        }, \n",
      "                        \"state [rw]\": {\n",
      "                            \"vlan_id [ro]\": \"union\"\n",
      "                        }\n",
      "                    }, \n",
      "                    \"state [rw]\": {\n",
      "                        \"admin_status [ro]\": \"enumeration\", \n",
      "                        \"counters [ro]\": {\n",
      "                            \"in_broadcast_pkts [ro]\": \"yang:counter64\", \n",
      "                            \"in_discards [ro]\": \"yang:counter64\", \n",
      "                            \"in_errors [ro]\": \"yang:counter64\", \n",
      "                            \"in_multicast_pkts [ro]\": \"yang:counter64\", \n",
      "                            \"in_octets [ro]\": \"yang:counter64\", \n",
      "                            \"in_unicast_pkts [ro]\": \"yang:counter64\", \n",
      "                            \"in_unknown_protos [ro]\": \"yang:counter32\", \n",
      "                            \"last_clear [ro]\": \"yang:date-and-time\", \n",
      "                            \"out_broadcast_pkts [ro]\": \"yang:counter64\", \n",
      "                            \"out_discards [ro]\": \"yang:counter64\", \n",
      "                            \"out_errors [ro]\": \"yang:counter64\", \n",
      "                            \"out_multicast_pkts [ro]\": \"yang:counter64\", \n",
      "                            \"out_octets [ro]\": \"yang:counter64\", \n",
      "                            \"out_unicast_pkts [ro]\": \"yang:counter64\"\n",
      "                        }, \n",
      "                        \"description [ro]\": \"string\", \n",
      "                        \"enabled [ro]\": \"boolean\", \n",
      "                        \"ifindex [ro]\": \"uint32\", \n",
      "                        \"index [ro]\": \"uint32\", \n",
      "                        \"last_change [ro]\": \"yang:timeticks\", \n",
      "                        \"name [ro]\": \"string\", \n",
      "                        \"oper_status [ro]\": \"enumeration\"\n",
      "                    }\n",
      "                }\n",
      "            }\n",
      "        }\n",
      "    }, \n",
      "    \"openconfig-vlan:vlans [rw]\": {\n",
      "        \"vlan [rw]\": {\n",
      "            \"config [rw]\": {\n",
      "                \"name [rw]\": \"string\", \n",
      "                \"status [rw]\": \"enumeration\", \n",
      "                \"tpid [rw]\": \"identityref\", \n",
      "                \"vlan_id [rw]\": \"oc-vlan-types:vlan-id\"\n",
      "            }, \n",
      "            \"members [rw]\": {\n",
      "                \"member [rw]\": {\n",
      "                    \"interface_ref [ro]\": {\n",
      "                        \"state [ro]\": {\n",
      "                            \"interface [ro]\": \"leafref\", \n",
      "                            \"subinterface [ro]\": \"leafref\"\n",
      "                        }\n",
      "                    }\n",
      "                }\n",
      "            }, \n",
      "            \"state [rw]\": {\n",
      "                \"name [ro]\": \"string\", \n",
      "                \"status [ro]\": \"enumeration\", \n",
      "                \"tpid [ro]\": \"identityref\", \n",
      "                \"vlan_id [ro]\": \"oc-vlan-types:vlan-id\"\n",
      "            }, \n",
      "            \"vlan_id [rw]\": \"leafref\"\n",
      "        }\n",
      "    }\n",
      "}\n"
     ]
    }
   ],
   "source": [
    "# Printing the model in a human readable format\n",
    "pretty_print(napalm_yang.utils.model_to_dict(config))"
   ]
  },
  {
   "cell_type": "markdown",
   "metadata": {
    "deletable": true,
    "editable": true,
    "slideshow": {
     "slide_type": "slide"
    }
   },
   "source": [
    "# Populating models\n",
    "\n",
    "Now that you have the models loaded, there are different ways to populate them."
   ]
  },
  {
   "cell_type": "markdown",
   "metadata": {
    "deletable": true,
    "editable": true,
    "slideshow": {
     "slide_type": "subslide"
    }
   },
   "source": [
    "## Populating the model programatically\n",
    "\n",
    "You can populate the model programmatically by navigating the model following its specifications. Some notes:\n",
    "\n",
    "1. Containers and leafs are attributes, which means you access them with a '.'. For example, interface.config.description.\n",
    "1. YANG lists have the following list of methods:\n",
    " 1. ``iter`` to iterate over elements in a key, value pair fashion.\n",
    " 1. ``keys`` to get list of elements.\n",
    " 1. ``add`` to create and add a new element.\n",
    " 1. ``delete`` to delete an element.\n",
    " 1. ``_new_item`` to create an element detached from the list.\n",
    " 1. ``append`` to add an existing element to a list.\n",
    "1. Values can be defaulted by using a special method ``_unset_$attribute``. For example. ``config._unset_mtu()``\n",
    "\n",
    "\n",
    "\n",
    "Note that models are compiled with ``pyangbind`` so refer to its documentation for more details: http://pynms.io/pyangbind/\n"
   ]
  },
  {
   "cell_type": "code",
   "execution_count": 4,
   "metadata": {
    "collapsed": false,
    "deletable": true,
    "editable": true,
    "slideshow": {
     "slide_type": "subslide"
    }
   },
   "outputs": [
    {
     "name": "stdout",
     "output_type": "stream",
     "text": [
      "My description\n",
      "1500\n"
     ]
    }
   ],
   "source": [
    "# We create an interface and set the description and the mtu\n",
    "et1 = config.interfaces.interface.add(\"et1\")\n",
    "et1.config.description = \"My description\"\n",
    "et1.config.mtu = 1500\n",
    "print(et1.config.description)\n",
    "print(et1.config.mtu)"
   ]
  },
  {
   "cell_type": "code",
   "execution_count": 5,
   "metadata": {
    "collapsed": false,
    "deletable": true,
    "editable": true,
    "slideshow": {
     "slide_type": "subslide"
    }
   },
   "outputs": [
    {
     "name": "stdout",
     "output_type": "stream",
     "text": [
      "Another description\n",
      "9000\n"
     ]
    }
   ],
   "source": [
    "# Let's create a second interface, this time accessing it from the root\n",
    "config.interfaces.interface.add(\"et2\")\n",
    "config.interfaces.interface[\"et2\"].config.description = \"Another description\"\n",
    "config.interfaces.interface[\"et2\"].config.mtu = 9000\n",
    "print(config.interfaces.interface[\"et2\"].config.description)\n",
    "print(config.interfaces.interface[\"et2\"].config.mtu)"
   ]
  },
  {
   "cell_type": "code",
   "execution_count": 6,
   "metadata": {
    "collapsed": false,
    "deletable": true,
    "editable": true,
    "slideshow": {
     "slide_type": "subslide"
    }
   },
   "outputs": [
    {
     "name": "stdout",
     "output_type": "stream",
     "text": [
      "{\n",
      "    \"interfaces\": {\n",
      "        \"interface\": {\n",
      "            \"et1\": {\n",
      "                \"config\": {\n",
      "                    \"description\": \"My description\", \n",
      "                    \"mtu\": 1500\n",
      "                }, \n",
      "                \"name\": \"et1\"\n",
      "            }, \n",
      "            \"et2\": {\n",
      "                \"config\": {\n",
      "                    \"description\": \"Another description\", \n",
      "                    \"mtu\": 9000\n",
      "                }, \n",
      "                \"name\": \"et2\"\n",
      "            }\n",
      "        }\n",
      "    }\n",
      "}\n"
     ]
    }
   ],
   "source": [
    "# You can also get the contents as a dict with the ``get`` method.\n",
    "# ``filter`` let's you decide whether you want to show empty fields or not.\n",
    "pretty_print(config.get(filter=True))"
   ]
  },
  {
   "cell_type": "code",
   "execution_count": 7,
   "metadata": {
    "collapsed": false,
    "deletable": true,
    "editable": true,
    "slideshow": {
     "slide_type": "subslide"
    }
   },
   "outputs": [
    {
     "name": "stdout",
     "output_type": "stream",
     "text": [
      "{'error-string': 'mtu must be of a type compatible with uint16', 'generated-type': 'YANGDynClass(base=RestrictedClassType(base_type=int, restriction_dict={\\'range\\': [\\'0..65535\\']},int_size=16), is_leaf=True, yang_name=\"mtu\", parent=self, path_helper=self._path_helper, extmethods=self._extmethods, register_paths=True, namespace=\\'http://openconfig.net/yang/interfaces\\', defining_module=\\'openconfig-interfaces\\', yang_type=\\'uint16\\', is_config=True)', 'defined-type': 'uint16'}\n"
     ]
    }
   ],
   "source": [
    "# If the value is not valid things will break\n",
    "try:\n",
    "    et1.config.mtu = -1\n",
    "except ValueError as e:\n",
    "    print(e)"
   ]
  },
  {
   "cell_type": "markdown",
   "metadata": {
    "deletable": true,
    "editable": true,
    "slideshow": {
     "slide_type": "subslide"
    }
   },
   "source": [
    "Let's work through the interface list:"
   ]
  },
  {
   "cell_type": "code",
   "execution_count": 8,
   "metadata": {
    "collapsed": false,
    "deletable": true,
    "editable": true,
    "slideshow": {
     "slide_type": "fragment"
    }
   },
   "outputs": [
    {
     "name": "stdout",
     "output_type": "stream",
     "text": [
      "('et1', u'My description')\n",
      "('et2', u'Another description')\n"
     ]
    }
   ],
   "source": [
    "# Iterating\n",
    "for iface, data in config.interfaces.interface.items():\n",
    "    print(iface, data.config.description)"
   ]
  },
  {
   "cell_type": "code",
   "execution_count": 9,
   "metadata": {
    "collapsed": false,
    "deletable": true,
    "editable": true,
    "slideshow": {
     "slide_type": "fragment"
    }
   },
   "outputs": [
    {
     "name": "stdout",
     "output_type": "stream",
     "text": [
      "['et1', 'et2']\n",
      "['et2']\n"
     ]
    }
   ],
   "source": [
    "# We can also delete interfaces\n",
    "print(config.interfaces.interface.keys())\n",
    "config.interfaces.interface.delete(\"et1\")\n",
    "print(config.interfaces.interface.keys())"
   ]
  },
  {
   "cell_type": "markdown",
   "metadata": {
    "deletable": true,
    "editable": true,
    "slideshow": {
     "slide_type": "subslide"
    }
   },
   "source": [
    "## Populating the model from a dict\n",
    "\n",
    "You can load a dictionary into the object."
   ]
  },
  {
   "cell_type": "code",
   "execution_count": 10,
   "metadata": {
    "collapsed": false,
    "deletable": true,
    "editable": true,
    "slideshow": {
     "slide_type": "fragment"
    }
   },
   "outputs": [
    {
     "name": "stdout",
     "output_type": "stream",
     "text": [
      "[200, 100]\n",
      "(100, u'production')\n",
      "(200, u'dev')\n"
     ]
    }
   ],
   "source": [
    "vlans_dict = {\n",
    "    \"vlans\": { \"vlan\": { 100: {\n",
    "                            \"config\": {\n",
    "                                \"vlan_id\": 100, \"name\": \"production\"}},\n",
    "                         200: {\n",
    "                            \"config\": {\n",
    "                                \"vlan_id\": 200, \"name\": \"dev\"}}}}}\n",
    "config.load_dict(vlans_dict)\n",
    "print(config.vlans.vlan.keys())\n",
    "print(100, config.vlans.vlan[100].config.name)\n",
    "print(200, config.vlans.vlan[200].config.name)"
   ]
  },
  {
   "cell_type": "markdown",
   "metadata": {
    "deletable": true,
    "editable": true,
    "slideshow": {
     "slide_type": "subslide"
    }
   },
   "source": [
    "## Populating the model from a device\n",
    "\n",
    "You can also load the native configuration of a device into a model."
   ]
  },
  {
   "cell_type": "code",
   "execution_count": 11,
   "metadata": {
    "collapsed": false,
    "deletable": true,
    "editable": true,
    "slideshow": {
     "slide_type": "fragment"
    }
   },
   "outputs": [
    {
     "name": "stderr",
     "output_type": "stream",
     "text": [
      "No handlers could be found for logger \"napalm-yang\"\n"
     ]
    },
    {
     "name": "stdout",
     "output_type": "stream",
     "text": [
      "{\n",
      "    \"interfaces\": {\n",
      "        \"interface\": {\n",
      "            \"Ethernet1\": {\n",
      "                \"config\": {\n",
      "                    \"description\": \"This is a description\", \n",
      "                    \"enabled\": True, \n",
      "                    \"type\": \"ethernetCsmacd\"\n",
      "                }, \n",
      "                \"name\": \"Ethernet1\", \n",
      "                \"routed-vlan\": {\n",
      "                    \"ipv4\": {\n",
      "                        \"config\": {\n",
      "                            \"enabled\": False\n",
      "                        }\n",
      "                    }\n",
      "                }\n",
      "            }, \n",
      "            \"Ethernet2\": {\n",
      "                \"config\": {\n",
      "                    \"description\": \"so much oc\", \n",
      "                    \"enabled\": False, \n",
      "                    \"mtu\": 1500, \n",
      "                    \"type\": \"ethernetCsmacd\"\n",
      "                }, \n",
      "                \"name\": \"Ethernet2\", \n",
      "                \"routed-vlan\": {\n",
      "                    \"ipv4\": {\n",
      "                        \"addresses\": {\n",
      "                            \"address\": {\n",
      "                                \"192.168.0.1\": {\n",
      "                                    \"config\": {\n",
      "                                        \"ip\": \"192.168.0.1\", \n",
      "                                        \"prefix-length\": 24, \n",
      "                                        \"secondary\": False\n",
      "                                    }, \n",
      "                                    \"ip\": \"192.168.0.1\"\n",
      "                                }\n",
      "                            }\n",
      "                        }, \n",
      "                        \"config\": {\n",
      "                            \"enabled\": True\n",
      "                        }\n",
      "                    }\n",
      "                }, \n",
      "                \"subinterfaces\": {\n",
      "                    \"subinterface\": {\n",
      "                        \"1\": {\n",
      "                            \"config\": {\n",
      "                                \"description\": \"another subiface\", \n",
      "                                \"enabled\": True, \n",
      "                                \"name\": \"Ethernet2.1\"\n",
      "                            }, \n",
      "                            \"index\": \"1\", \n",
      "                            \"ipv4\": {\n",
      "                                \"addresses\": {\n",
      "                                    \"address\": {\n",
      "                                        \"172.20.0.1\": {\n",
      "                                            \"config\": {\n",
      "                                                \"ip\": \"172.20.0.1\", \n",
      "                                                \"prefix-length\": 24, \n",
      "                                                \"secondary\": True\n",
      "                                            }, \n",
      "                                            \"ip\": \"172.20.0.1\"\n",
      "                                        }, \n",
      "                                        \"192.168.1.1\": {\n",
      "                                            \"config\": {\n",
      "                                                \"ip\": \"192.168.1.1\", \n",
      "                                                \"prefix-length\": 24, \n",
      "                                                \"secondary\": False\n",
      "                                            }, \n",
      "                                            \"ip\": \"192.168.1.1\"\n",
      "                                        }\n",
      "                                    }\n",
      "                                }, \n",
      "                                \"config\": {\n",
      "                                    \"enabled\": True\n",
      "                                }\n",
      "                            }, \n",
      "                            \"vlan\": {\n",
      "                                \"config\": {\n",
      "                                    \"vlan-id\": 1\n",
      "                                }\n",
      "                            }\n",
      "                        }, \n",
      "                        \"2\": {\n",
      "                            \"config\": {\n",
      "                                \"description\": \"asdasdasd\", \n",
      "                                \"enabled\": True, \n",
      "                                \"name\": \"Ethernet2.2\"\n",
      "                            }, \n",
      "                            \"index\": \"2\", \n",
      "                            \"ipv4\": {\n",
      "                                \"addresses\": {\n",
      "                                    \"address\": {\n",
      "                                        \"192.168.2.1\": {\n",
      "                                            \"config\": {\n",
      "                                                \"ip\": \"192.168.2.1\", \n",
      "                                                \"prefix-length\": 24, \n",
      "                                                \"secondary\": False\n",
      "                                            }, \n",
      "                                            \"ip\": \"192.168.2.1\"\n",
      "                                        }\n",
      "                                    }\n",
      "                                }, \n",
      "                                \"config\": {\n",
      "                                    \"enabled\": True\n",
      "                                }\n",
      "                            }, \n",
      "                            \"vlan\": {\n",
      "                                \"config\": {\n",
      "                                    \"vlan-id\": 2\n",
      "                                }\n",
      "                            }\n",
      "                        }\n",
      "                    }\n",
      "                }\n",
      "            }, \n",
      "            \"Loopback1\": {\n",
      "                \"config\": {\n",
      "                    \"description\": \"a loopback\", \n",
      "                    \"enabled\": True, \n",
      "                    \"mtu\": 1500, \n",
      "                    \"type\": \"softwareLoopback\"\n",
      "                }, \n",
      "                \"name\": \"Loopback1\", \n",
      "                \"routed-vlan\": {\n",
      "                    \"ipv4\": {\n",
      "                        \"config\": {\n",
      "                            \"enabled\": True\n",
      "                        }\n",
      "                    }\n",
      "                }\n",
      "            }, \n",
      "            \"Management1\": {\n",
      "                \"config\": {\n",
      "                    \"enabled\": True, \n",
      "                    \"mtu\": 1500, \n",
      "                    \"type\": \"ethernetCsmacd\"\n",
      "                }, \n",
      "                \"name\": \"Management1\", \n",
      "                \"routed-vlan\": {\n",
      "                    \"ipv4\": {\n",
      "                        \"addresses\": {\n",
      "                            \"address\": {\n",
      "                                \"10.0.2.15\": {\n",
      "                                    \"config\": {\n",
      "                                        \"ip\": \"10.0.2.15\", \n",
      "                                        \"prefix-length\": 24, \n",
      "                                        \"secondary\": False\n",
      "                                    }, \n",
      "                                    \"ip\": \"10.0.2.15\"\n",
      "                                }\n",
      "                            }\n",
      "                        }, \n",
      "                        \"config\": {\n",
      "                            \"enabled\": True\n",
      "                        }\n",
      "                    }\n",
      "                }\n",
      "            }, \n",
      "            \"Port-Channel1\": {\n",
      "                \"config\": {\n",
      "                    \"description\": \"blah\", \n",
      "                    \"enabled\": True, \n",
      "                    \"mtu\": 9000, \n",
      "                    \"type\": \"ieee8023adLag\"\n",
      "                }, \n",
      "                \"name\": \"Port-Channel1\", \n",
      "                \"routed-vlan\": {\n",
      "                    \"ipv4\": {\n",
      "                        \"config\": {\n",
      "                            \"enabled\": True\n",
      "                        }\n",
      "                    }\n",
      "                }, \n",
      "                \"subinterfaces\": {\n",
      "                    \"subinterface\": {\n",
      "                        \"1\": {\n",
      "                            \"config\": {\n",
      "                                \"enabled\": True, \n",
      "                                \"name\": \"Port-Channel1.1\"\n",
      "                            }, \n",
      "                            \"index\": \"1\", \n",
      "                            \"ipv4\": {\n",
      "                                \"config\": {\n",
      "                                    \"enabled\": True\n",
      "                                }\n",
      "                            }\n",
      "                        }\n",
      "                    }\n",
      "                }\n",
      "            }\n",
      "        }\n",
      "    }\n",
      "}\n"
     ]
    }
   ],
   "source": [
    "with eos_device as d:\n",
    "    running_config = napalm_yang.base.Root()\n",
    "    running_config.add_model(napalm_yang.models.openconfig_interfaces)\n",
    "    running_config.parse_config(device=d)\n",
    "\n",
    "pretty_print(running_config.get(filter=True))"
   ]
  },
  {
   "cell_type": "markdown",
   "metadata": {
    "deletable": true,
    "editable": true,
    "slideshow": {
     "slide_type": "subslide"
    }
   },
   "source": [
    "## Populating from a file\n",
    "\n",
    "Or from a configuration file stored on disk. The only catch is that you will have to tell `parse_config` which profile to use to parse it."
   ]
  },
  {
   "cell_type": "code",
   "execution_count": 12,
   "metadata": {
    "collapsed": false,
    "deletable": true,
    "editable": true,
    "scrolled": true,
    "slideshow": {
     "slide_type": "fragment"
    }
   },
   "outputs": [
    {
     "name": "stdout",
     "output_type": "stream",
     "text": [
      "{\n",
      "    \"interfaces\": {\n",
      "        \"interface\": {\n",
      "            \"ae0\": {\n",
      "                \"config\": {\n",
      "                    \"enabled\": True, \n",
      "                    \"name\": \"ae0\", \n",
      "                    \"type\": \"ieee8023adLag\"\n",
      "                }, \n",
      "                \"name\": \"ae0\", \n",
      "                \"subinterfaces\": {\n",
      "                    \"subinterface\": {\n",
      "                        \"0\": {\n",
      "                            \"config\": {\n",
      "                                \"description\": \"ASDASDASD\", \n",
      "                                \"enabled\": True, \n",
      "                                \"name\": \"0\"\n",
      "                            }, \n",
      "                            \"index\": \"0\", \n",
      "                            \"ipv4\": {\n",
      "                                \"addresses\": {\n",
      "                                    \"address\": {\n",
      "                                        \"172.20.100.1/24\": {\n",
      "                                            \"config\": {\n",
      "                                                \"ip\": \"172.20.100.1\", \n",
      "                                                \"prefix-length\": 24\n",
      "                                            }, \n",
      "                                            \"ip\": \"172.20.100.1/24\"\n",
      "                                        }, \n",
      "                                        \"192.168.100.1/24\": {\n",
      "                                            \"config\": {\n",
      "                                                \"ip\": \"192.168.100.1\", \n",
      "                                                \"prefix-length\": 24\n",
      "                                            }, \n",
      "                                            \"ip\": \"192.168.100.1/24\"\n",
      "                                        }\n",
      "                                    }\n",
      "                                }, \n",
      "                                \"config\": {\n",
      "                                    \"enabled\": True\n",
      "                                }\n",
      "                            }, \n",
      "                            \"vlan\": {\n",
      "                                \"config\": {\n",
      "                                    \"vlan-id\": 100\n",
      "                                }\n",
      "                            }\n",
      "                        }, \n",
      "                        \"1\": {\n",
      "                            \"config\": {\n",
      "                                \"description\": \"ae0.1\", \n",
      "                                \"enabled\": True, \n",
      "                                \"name\": \"1\"\n",
      "                            }, \n",
      "                            \"index\": \"1\", \n",
      "                            \"ipv4\": {\n",
      "                                \"addresses\": {\n",
      "                                    \"address\": {\n",
      "                                        \"192.168.101.1/24\": {\n",
      "                                            \"config\": {\n",
      "                                                \"ip\": \"192.168.101.1\", \n",
      "                                                \"prefix-length\": 24\n",
      "                                            }, \n",
      "                                            \"ip\": \"192.168.101.1/24\"\n",
      "                                        }\n",
      "                                    }\n",
      "                                }, \n",
      "                                \"config\": {\n",
      "                                    \"enabled\": True\n",
      "                                }\n",
      "                            }, \n",
      "                            \"vlan\": {\n",
      "                                \"config\": {\n",
      "                                    \"vlan-id\": 1\n",
      "                                }\n",
      "                            }\n",
      "                        }, \n",
      "                        \"2\": {\n",
      "                            \"config\": {\n",
      "                                \"description\": \"ae0.2\", \n",
      "                                \"enabled\": True, \n",
      "                                \"name\": \"2\"\n",
      "                            }, \n",
      "                            \"index\": \"2\", \n",
      "                            \"ipv4\": {\n",
      "                                \"addresses\": {\n",
      "                                    \"address\": {\n",
      "                                        \"192.168.102.1/24\": {\n",
      "                                            \"config\": {\n",
      "                                                \"ip\": \"192.168.102.1\", \n",
      "                                                \"prefix-length\": 24\n",
      "                                            }, \n",
      "                                            \"ip\": \"192.168.102.1/24\"\n",
      "                                        }\n",
      "                                    }\n",
      "                                }, \n",
      "                                \"config\": {\n",
      "                                    \"enabled\": True\n",
      "                                }\n",
      "                            }, \n",
      "                            \"vlan\": {\n",
      "                                \"config\": {\n",
      "                                    \"vlan-id\": 2\n",
      "                                }\n",
      "                            }\n",
      "                        }\n",
      "                    }\n",
      "                }\n",
      "            }, \n",
      "            \"ge-0/0/0\": {\n",
      "                \"config\": {\n",
      "                    \"description\": \"management interface\", \n",
      "                    \"enabled\": True, \n",
      "                    \"mtu\": 1400, \n",
      "                    \"name\": \"ge-0/0/0\", \n",
      "                    \"type\": \"ethernetCsmacd\"\n",
      "                }, \n",
      "                \"name\": \"ge-0/0/0\", \n",
      "                \"subinterfaces\": {\n",
      "                    \"subinterface\": {\n",
      "                        \"0\": {\n",
      "                            \"config\": {\n",
      "                                \"description\": \"ge-0/0/0.0\", \n",
      "                                \"enabled\": True, \n",
      "                                \"name\": \"0\"\n",
      "                            }, \n",
      "                            \"index\": \"0\", \n",
      "                            \"ipv4\": {\n",
      "                                \"config\": {\n",
      "                                    \"enabled\": True\n",
      "                                }\n",
      "                            }\n",
      "                        }\n",
      "                    }\n",
      "                }\n",
      "            }, \n",
      "            \"ge-0/0/1\": {\n",
      "                \"config\": {\n",
      "                    \"description\": \"ge-0/0/1\", \n",
      "                    \"enabled\": False, \n",
      "                    \"name\": \"ge-0/0/1\", \n",
      "                    \"type\": \"ethernetCsmacd\"\n",
      "                }, \n",
      "                \"name\": \"ge-0/0/1\"\n",
      "            }, \n",
      "            \"lo0\": {\n",
      "                \"config\": {\n",
      "                    \"description\": \"lo0\", \n",
      "                    \"enabled\": True, \n",
      "                    \"name\": \"lo0\", \n",
      "                    \"type\": \"softwareLoopback\"\n",
      "                }, \n",
      "                \"name\": \"lo0\", \n",
      "                \"subinterfaces\": {\n",
      "                    \"subinterface\": {\n",
      "                        \"0\": {\n",
      "                            \"config\": {\n",
      "                                \"description\": \"lo0.0\", \n",
      "                                \"enabled\": True, \n",
      "                                \"name\": \"0\"\n",
      "                            }, \n",
      "                            \"index\": \"0\"\n",
      "                        }\n",
      "                    }\n",
      "                }\n",
      "            }\n",
      "        }\n",
      "    }\n",
      "}\n"
     ]
    }
   ],
   "source": [
    "with open(\"junos.config\", \"r\") as f:\n",
    "    config = f.read()\n",
    "\n",
    "running_config = napalm_yang.base.Root()\n",
    "running_config.add_model(napalm_yang.models.openconfig_interfaces)\n",
    "running_config.parse_config(config=config, profile=[\"junos\"])\n",
    "\n",
    "pretty_print(running_config.get(filter=True))"
   ]
  },
  {
   "cell_type": "markdown",
   "metadata": {
    "collapsed": true,
    "deletable": true,
    "editable": true,
    "slideshow": {
     "slide_type": "slide"
    }
   },
   "source": [
    "# Translating models\n",
    "\n",
    "Now we know how to populate models, let's translate them into native configuration."
   ]
  },
  {
   "cell_type": "code",
   "execution_count": 13,
   "metadata": {
    "collapsed": false,
    "deletable": true,
    "editable": true,
    "slideshow": {
     "slide_type": "subslide"
    }
   },
   "outputs": [
    {
     "name": "stdout",
     "output_type": "stream",
     "text": [
      "{\n",
      "    \"interfaces\": {\n",
      "        \"interface\": {\n",
      "            \"et1\": {\n",
      "                \"config\": {\n",
      "                    \"description\": \"Uplink1\", \n",
      "                    \"mtu\": 9000\n",
      "                }, \n",
      "                \"name\": \"et1\", \n",
      "                \"routed-vlan\": {\n",
      "                    \"ipv4\": {\n",
      "                        \"addresses\": {\n",
      "                            \"address\": {\n",
      "                                \"192.168.1.1\": {\n",
      "                                    \"config\": {\n",
      "                                        \"ip\": \"192.168.1.1\", \n",
      "                                        \"prefix-length\": 24\n",
      "                                    }, \n",
      "                                    \"ip\": \"192.168.1.1\"\n",
      "                                }\n",
      "                            }\n",
      "                        }\n",
      "                    }\n",
      "                }\n",
      "            }, \n",
      "            \"et2\": {\n",
      "                \"config\": {\n",
      "                    \"description\": \"Uplink2\", \n",
      "                    \"mtu\": 9000\n",
      "                }, \n",
      "                \"name\": \"et2\", \n",
      "                \"routed-vlan\": {\n",
      "                    \"ipv4\": {\n",
      "                        \"addresses\": {\n",
      "                            \"address\": {\n",
      "                                \"192.168.2.1\": {\n",
      "                                    \"config\": {\n",
      "                                        \"ip\": \"192.168.2.1\", \n",
      "                                        \"prefix-length\": 24\n",
      "                                    }, \n",
      "                                    \"ip\": \"192.168.2.1\"\n",
      "                                }\n",
      "                            }\n",
      "                        }\n",
      "                    }\n",
      "                }\n",
      "            }\n",
      "        }\n",
      "    }\n",
      "}\n"
     ]
    }
   ],
   "source": [
    "# Let's create a candidate configuration\n",
    "\n",
    "candidate = napalm_yang.base.Root()\n",
    "candidate.add_model(napalm_yang.models.openconfig_interfaces())\n",
    "\n",
    "def create_iface(candidate, name, description, mtu, prefix, prefix_length):\n",
    "    interface = candidate.interfaces.interface.add(name)\n",
    "    interface.config.description = description\n",
    "    interface.config.mtu = mtu\n",
    "    ip = interface.routed_vlan.ipv4.addresses.address.add(prefix)\n",
    "    ip.config.ip = prefix\n",
    "    ip.config.prefix_length = prefix_length\n",
    "\n",
    "create_iface(candidate, \"et1\", \"Uplink1\", 9000, \"192.168.1.1\", 24)\n",
    "create_iface(candidate, \"et2\", \"Uplink2\", 9000, \"192.168.2.1\", 24)\n",
    "\n",
    "pretty_print(candidate.get(filter=True))"
   ]
  },
  {
   "cell_type": "code",
   "execution_count": 14,
   "metadata": {
    "collapsed": false,
    "deletable": true,
    "editable": true,
    "slideshow": {
     "slide_type": "subslide"
    }
   },
   "outputs": [
    {
     "name": "stdout",
     "output_type": "stream",
     "text": [
      "<configuration>\n",
      "  <interfaces>\n",
      "    <interface>\n",
      "      <name>et1</name>\n",
      "      <family>\n",
      "        <inet>\n",
      "          <address>\n",
      "            <name>192.168.1.1/24</name>\n",
      "          </address>\n",
      "        </inet>\n",
      "      </family>\n",
      "      <description>Uplink1</description>\n",
      "      <mtu>9000</mtu>\n",
      "    </interface>\n",
      "    <interface>\n",
      "      <name>et2</name>\n",
      "      <family>\n",
      "        <inet>\n",
      "          <address>\n",
      "            <name>192.168.2.1/24</name>\n",
      "          </address>\n",
      "        </inet>\n",
      "      </family>\n",
      "      <description>Uplink2</description>\n",
      "      <mtu>9000</mtu>\n",
      "    </interface>\n",
      "  </interfaces>\n",
      "</configuration>\n",
      "\n"
     ]
    }
   ],
   "source": [
    "# Now let's translate the object to JunOS\n",
    "\n",
    "print(candidate.translate_config(profile=junos_device.profile))"
   ]
  },
  {
   "cell_type": "code",
   "execution_count": 15,
   "metadata": {
    "collapsed": false,
    "deletable": true,
    "editable": true,
    "scrolled": true,
    "slideshow": {
     "slide_type": "subslide"
    }
   },
   "outputs": [
    {
     "name": "stdout",
     "output_type": "stream",
     "text": [
      "interface et1\n",
      "    ip address 192.168.1.1/24 \n",
      "    description Uplink1\n",
      "    mtu 9000\n",
      "interface et2\n",
      "    ip address 192.168.2.1/24 \n",
      "    description Uplink2\n",
      "    mtu 9000\n",
      "\n"
     ]
    }
   ],
   "source": [
    "# And now to EOS\n",
    "\n",
    "print(candidate.translate_config(eos_device.profile))"
   ]
  },
  {
   "cell_type": "markdown",
   "metadata": {
    "deletable": true,
    "editable": true,
    "slideshow": {
     "slide_type": "subslide"
    }
   },
   "source": [
    "But this is just the begining, the fun part is yet to come : )"
   ]
  },
  {
   "cell_type": "markdown",
   "metadata": {
    "deletable": true,
    "editable": true,
    "slideshow": {
     "slide_type": "slide"
    }
   },
   "source": [
    "# Advanced manipulation of the configuration\n",
    "\n",
    "Generating configuration is cool but sometimes is not enough. Let's now see how we can use OpenConfig to make some changes to an existing configuration and generate a \"replacement\" of the configuration or a \"merge\".\n",
    "\n",
    "* A configuration replacement will replace the entire section. For example, if you are manipulating interfaces, all interfaces' configuration will be what's in the model you have. If some configuration parameter is not there, it will be wiped out.\n",
    "* A configuration merge is a bit different. Lists of elements are synchronized, which means that if you have one or more interfaces in the running configuration that don't exist in the candidate, they will be removed. This will happen to any list of elements. However, elements that exist in both the candidate and the running configuration will be merged, which means that if some attribute is not set in the candidate but is set in the running, it will not be modified."
   ]
  },
  {
   "cell_type": "code",
   "execution_count": 16,
   "metadata": {
    "collapsed": false,
    "deletable": true,
    "editable": true,
    "slideshow": {
     "slide_type": "subslide"
    }
   },
   "outputs": [],
   "source": [
    "with junos_device as device:\n",
    "    # first let's create a candidate config by retrieving the current state of the device\n",
    "    candidate = napalm_yang.base.Root()\n",
    "    candidate.add_model(napalm_yang.models.openconfig_interfaces)\n",
    "    candidate.parse_config(device=junos_device)\n",
    "\n",
    "    # now let's do a few changes, let's remove lo0.0 and create lo0.1\n",
    "    candidate.interfaces.interface[\"lo0\"].subinterfaces.subinterface.delete(\"0\")\n",
    "    lo1 = candidate.interfaces.interface[\"lo0\"].subinterfaces.subinterface.add(\"1\")\n",
    "    lo1.config.description = \"new loopback\"\n",
    "\n",
    "    # Let's also default the mtu of ge-0/0/0 which is set to 1400\n",
    "    candidate.interfaces.interface[\"ge-0/0/0\"].config._unset_mtu()\n",
    "\n",
    "    # We will also need a running configuration to compare against\n",
    "    running = napalm_yang.base.Root()\n",
    "    running.add_model(napalm_yang.models.openconfig_interfaces)\n",
    "    running.parse_config(device=junos_device)"
   ]
  },
  {
   "cell_type": "code",
   "execution_count": 17,
   "metadata": {
    "collapsed": false,
    "deletable": true,
    "editable": true,
    "slideshow": {
     "slide_type": "subslide"
    }
   },
   "outputs": [
    {
     "name": "stdout",
     "output_type": "stream",
     "text": [
      "<configuration>\n",
      "  <interfaces>\n",
      "    <interface>\n",
      "      <name>ge-0/0/0</name>\n",
      "      <unit>\n",
      "        <name>0</name>\n",
      "        <family>\n",
      "          <inet/>\n",
      "        </family>\n",
      "        <description>ge-0/0/0.0</description>\n",
      "      </unit>\n",
      "      <description>management interface</description>\n",
      "      <mtu delete=\"delete\"/>\n",
      "    </interface>\n",
      "    <interface>\n",
      "      <name>ge-0/0/1</name>\n",
      "      <disable/>\n",
      "      <description>ge-0/0/1</description>\n",
      "    </interface>\n",
      "    <interface>\n",
      "      <name>ae0</name>\n",
      "      <unit>\n",
      "        <name>0</name>\n",
      "        <vlan-id>100</vlan-id>\n",
      "        <family>\n",
      "          <inet>\n",
      "            <address>\n",
      "              <name>192.168.100.1/24</name>\n",
      "            </address>\n",
      "            <address>\n",
      "              <name>172.20.100.1/24</name>\n",
      "            </address>\n",
      "          </inet>\n",
      "        </family>\n",
      "        <description>ASDASDASD</description>\n",
      "      </unit>\n",
      "      <vlan-tagging/>\n",
      "      <unit>\n",
      "        <name>1</name>\n",
      "        <vlan-id>1</vlan-id>\n",
      "        <family>\n",
      "          <inet>\n",
      "            <address>\n",
      "              <name>192.168.101.1/24</name>\n",
      "            </address>\n",
      "          </inet>\n",
      "        </family>\n",
      "        <description>ae0.1</description>\n",
      "      </unit>\n",
      "      <vlan-tagging/>\n",
      "      <unit>\n",
      "        <name>2</name>\n",
      "        <vlan-id>2</vlan-id>\n",
      "        <family>\n",
      "          <inet>\n",
      "            <address>\n",
      "              <name>192.168.102.1/24</name>\n",
      "            </address>\n",
      "          </inet>\n",
      "        </family>\n",
      "        <description>ae0.2</description>\n",
      "      </unit>\n",
      "      <vlan-tagging/>\n",
      "    </interface>\n",
      "    <interface>\n",
      "      <name>lo0</name>\n",
      "      <unit>\n",
      "        <name>1</name>\n",
      "        <description>new loopback</description>\n",
      "      </unit>\n",
      "      <unit delete=\"delete\">\n",
      "        <name>0</name>\n",
      "      </unit>\n",
      "      <description>lo0</description>\n",
      "    </interface>\n",
      "  </interfaces>\n",
      "</configuration>\n",
      "\n"
     ]
    }
   ],
   "source": [
    "# Now let's see how the merge configuration would be\n",
    "config = candidate.translate_config(profile=junos_device.profile, merge=running)\n",
    "print(config)"
   ]
  },
  {
   "cell_type": "markdown",
   "metadata": {
    "deletable": true,
    "editable": true,
    "slideshow": {
     "slide_type": "fragment"
    }
   },
   "source": [
    "Note the \"delete\" tags. Let's actually load the configuration in the device and see which changes are reported."
   ]
  },
  {
   "cell_type": "code",
   "execution_count": 18,
   "metadata": {
    "collapsed": false,
    "deletable": true,
    "editable": true,
    "slideshow": {
     "slide_type": "subslide"
    }
   },
   "outputs": [
    {
     "name": "stdout",
     "output_type": "stream",
     "text": [
      "[edit interfaces ge-0/0/0]\n",
      "-   mtu 1400;\n",
      "[edit interfaces lo0]\n",
      "-    unit 0 {\n",
      "-        description lo0.0;\n",
      "-    }\n",
      "+    unit 1 {\n",
      "+        description \"new loopback\";\n",
      "+    }\n"
     ]
    }
   ],
   "source": [
    "with junos_device as d:\n",
    "    d.load_merge_candidate(config=config)\n",
    "    print(d.compare_config())\n",
    "    d.discard_config()"
   ]
  },
  {
   "cell_type": "markdown",
   "metadata": {
    "deletable": true,
    "editable": true,
    "slideshow": {
     "slide_type": "fragment"
    }
   },
   "source": [
    "You can see that the device is reporting the changes we expected. Let's try now a replace instead."
   ]
  },
  {
   "cell_type": "code",
   "execution_count": 19,
   "metadata": {
    "collapsed": false,
    "deletable": true,
    "editable": true,
    "slideshow": {
     "slide_type": "subslide"
    }
   },
   "outputs": [
    {
     "name": "stdout",
     "output_type": "stream",
     "text": [
      "<configuration>\n",
      "  <interfaces replace=\"replace\">\n",
      "    <interface>\n",
      "      <name>ge-0/0/0</name>\n",
      "      <unit>\n",
      "        <name>0</name>\n",
      "        <family>\n",
      "          <inet/>\n",
      "        </family>\n",
      "        <description>ge-0/0/0.0</description>\n",
      "      </unit>\n",
      "      <description>management interface</description>\n",
      "    </interface>\n",
      "    <interface>\n",
      "      <name>ge-0/0/1</name>\n",
      "      <disable/>\n",
      "      <description>ge-0/0/1</description>\n",
      "    </interface>\n",
      "    <interface>\n",
      "      <name>ae0</name>\n",
      "      <unit>\n",
      "        <name>0</name>\n",
      "        <vlan-id>100</vlan-id>\n",
      "        <family>\n",
      "          <inet>\n",
      "            <address>\n",
      "              <name>192.168.100.1/24</name>\n",
      "            </address>\n",
      "            <address>\n",
      "              <name>172.20.100.1/24</name>\n",
      "            </address>\n",
      "          </inet>\n",
      "        </family>\n",
      "        <description>ASDASDASD</description>\n",
      "      </unit>\n",
      "      <vlan-tagging/>\n",
      "      <unit>\n",
      "        <name>1</name>\n",
      "        <vlan-id>1</vlan-id>\n",
      "        <family>\n",
      "          <inet>\n",
      "            <address>\n",
      "              <name>192.168.101.1/24</name>\n",
      "            </address>\n",
      "          </inet>\n",
      "        </family>\n",
      "        <description>ae0.1</description>\n",
      "      </unit>\n",
      "      <vlan-tagging/>\n",
      "      <unit>\n",
      "        <name>2</name>\n",
      "        <vlan-id>2</vlan-id>\n",
      "        <family>\n",
      "          <inet>\n",
      "            <address>\n",
      "              <name>192.168.102.1/24</name>\n",
      "            </address>\n",
      "          </inet>\n",
      "        </family>\n",
      "        <description>ae0.2</description>\n",
      "      </unit>\n",
      "      <vlan-tagging/>\n",
      "    </interface>\n",
      "    <interface>\n",
      "      <name>lo0</name>\n",
      "      <unit>\n",
      "        <name>1</name>\n",
      "        <description>new loopback</description>\n",
      "      </unit>\n",
      "      <description>lo0</description>\n",
      "    </interface>\n",
      "  </interfaces>\n",
      "</configuration>\n",
      "\n"
     ]
    }
   ],
   "source": [
    "config = candidate.translate_config(profile=junos_device.profile, replace=running)\n",
    "print(config)"
   ]
  },
  {
   "cell_type": "markdown",
   "metadata": {
    "deletable": true,
    "editable": true,
    "slideshow": {
     "slide_type": "fragment"
    }
   },
   "source": [
    "Note that instead of \"delete\", now we have a replace in one of the top containers, indicating to the device we want to replace everything underneath. Let's merge and see what happens:"
   ]
  },
  {
   "cell_type": "code",
   "execution_count": 20,
   "metadata": {
    "collapsed": false,
    "deletable": true,
    "editable": true,
    "slideshow": {
     "slide_type": "subslide"
    }
   },
   "outputs": [
    {
     "name": "stdout",
     "output_type": "stream",
     "text": [
      "[edit interfaces ge-0/0/0]\n",
      "-   mtu 1400;\n",
      "[edit interfaces ge-0/0/0 unit 0 family inet]\n",
      "-       dhcp;\n",
      "[edit interfaces lo0]\n",
      "-    unit 0 {\n",
      "-        description lo0.0;\n",
      "-    }\n",
      "+    unit 1 {\n",
      "+        description \"new loopback\";\n",
      "+    }\n"
     ]
    }
   ],
   "source": [
    "with junos_device as d:\n",
    "    d.load_merge_candidate(config=config)\n",
    "    print(d.compare_config())\n",
    "    d.discard_config()"
   ]
  },
  {
   "cell_type": "markdown",
   "metadata": {
    "deletable": true,
    "editable": true,
    "slideshow": {
     "slide_type": "fragment"
    }
   },
   "source": [
    "Interestingly, there is an extra change. That is due to the fact that the `dhcp` parameter is outside our model's control."
   ]
  },
  {
   "cell_type": "markdown",
   "metadata": {
    "deletable": true,
    "editable": true,
    "slideshow": {
     "slide_type": "subslide"
    }
   },
   "source": [
    "### Not so friendly platforms\n",
    "\n",
    "This also works with not so friendly platforms. Let's do the same we did in the previous section with an EOS device."
   ]
  },
  {
   "cell_type": "code",
   "execution_count": 21,
   "metadata": {
    "collapsed": false,
    "deletable": true,
    "editable": true,
    "slideshow": {
     "slide_type": "fragment"
    }
   },
   "outputs": [],
   "source": [
    "with eos_device as device:\n",
    "    # first let's create a candidate config by retrieving the current state of the device\n",
    "    candidate = napalm_yang.base.Root()\n",
    "    candidate.add_model(napalm_yang.models.openconfig_interfaces)\n",
    "    candidate.parse_config(device=device)\n",
    "\n",
    "    # now let's do a few changes, let's remove lo1 and create lo0\n",
    "    candidate.interfaces.interface.delete(\"Loopback1\")\n",
    "    lo0 = candidate.interfaces.interface.add(\"Loopback0\")\n",
    "    lo0.config.description = \"new loopback\"\n",
    "\n",
    "    # Let's also default the mtu of ge-0/0/0 which is set to 1400\n",
    "    candidate.interfaces.interface[\"Port-Channel1\"].config._unset_mtu()\n",
    "\n",
    "    # We will also need a running configuration to compare against\n",
    "    running = napalm_yang.base.Root()\n",
    "    running.add_model(napalm_yang.models.openconfig_interfaces)\n",
    "    running.parse_config(device=device)"
   ]
  },
  {
   "cell_type": "code",
   "execution_count": 22,
   "metadata": {
    "collapsed": false,
    "deletable": true,
    "editable": true,
    "slideshow": {
     "slide_type": "subslide"
    }
   },
   "outputs": [
    {
     "name": "stdout",
     "output_type": "stream",
     "text": [
      "interface Port-Channel1\n",
      "    no switchport\n",
      "    no switchport\n",
      "    default mtu\n",
      "interface Port-Channel1.1\n",
      "interface Ethernet1\n",
      "interface Ethernet2\n",
      "    no switchport\n",
      "    ip address 192.168.0.1/24 \n",
      "    no switchport\n",
      "    no switchport\n",
      "    shutdown\n",
      "interface Ethernet2.1\n",
      "    encapsulation dot1q vlan 1\n",
      "    ip address 192.168.1.1/24 \n",
      "    ip address 172.20.0.1/24 secondary\n",
      "interface Ethernet2.2\n",
      "    encapsulation dot1q vlan 2\n",
      "    ip address 192.168.2.1/24 \n",
      "interface Management1\n",
      "    ip address 10.0.2.15/24 \n",
      "interface Loopback0\n",
      "    description new loopback\n",
      "no interface Loopback1\n",
      "\n"
     ]
    }
   ],
   "source": [
    "# Now let's see how the merge configuration would be\n",
    "config = candidate.translate_config(profile=eos_device.profile, merge=running)\n",
    "print(config)"
   ]
  },
  {
   "cell_type": "code",
   "execution_count": 23,
   "metadata": {
    "collapsed": false,
    "deletable": true,
    "editable": true,
    "slideshow": {
     "slide_type": "subslide"
    }
   },
   "outputs": [
    {
     "name": "stdout",
     "output_type": "stream",
     "text": [
      "@@ -19,7 +19,6 @@\n",
      " !\n",
      " interface Port-Channel1\n",
      "    description blah\n",
      "-   mtu 9000\n",
      "    no switchport\n",
      " !\n",
      " interface Port-Channel1.1\n",
      "@@ -46,8 +45,8 @@\n",
      "    encapsulation dot1q vlan 2\n",
      "    ip address 192.168.2.1/24\n",
      " !\n",
      "-interface Loopback1\n",
      "-   description a loopback\n",
      "+interface Loopback0\n",
      "+   description new loopback\n",
      " !\n",
      " interface Management1\n",
      "    ip address 10.0.2.15/24\n"
     ]
    }
   ],
   "source": [
    "with eos_device as d:\n",
    "    d.load_merge_candidate(config=config)\n",
    "    print(d.compare_config())\n",
    "    d.discard_config()"
   ]
  },
  {
   "cell_type": "markdown",
   "metadata": {
    "deletable": true,
    "editable": true,
    "slideshow": {
     "slide_type": "fragment"
    }
   },
   "source": [
    "As in the previous example, we got exactly the same changes we were expecting."
   ]
  },
  {
   "cell_type": "code",
   "execution_count": 24,
   "metadata": {
    "collapsed": false,
    "deletable": true,
    "editable": true,
    "slideshow": {
     "slide_type": "subslide"
    }
   },
   "outputs": [
    {
     "name": "stdout",
     "output_type": "stream",
     "text": [
      "no interface Port-Channel1\n",
      "interface Port-Channel1\n",
      "    no switchport\n",
      "    no switchport\n",
      "    description blah\n",
      "no interface Port-Channel1.1\n",
      "interface Port-Channel1.1\n",
      "default interface Ethernet1\n",
      "interface Ethernet1\n",
      "    description This is a description\n",
      "default interface Ethernet2\n",
      "interface Ethernet2\n",
      "    no switchport\n",
      "    ip address 192.168.0.1/24 \n",
      "    no switchport\n",
      "    no switchport\n",
      "    shutdown\n",
      "    description so much oc\n",
      "    mtu 1500\n",
      "no interface Ethernet2.1\n",
      "interface Ethernet2.1\n",
      "    encapsulation dot1q vlan 1\n",
      "    ip address 192.168.1.1/24 \n",
      "    ip address 172.20.0.1/24 secondary\n",
      "    description another subiface\n",
      "no interface Ethernet2.2\n",
      "interface Ethernet2.2\n",
      "    encapsulation dot1q vlan 2\n",
      "    ip address 192.168.2.1/24 \n",
      "    description asdasdasd\n",
      "default interface Management1\n",
      "interface Management1\n",
      "    ip address 10.0.2.15/24 \n",
      "    mtu 1500\n",
      "no interface Loopback0\n",
      "interface Loopback0\n",
      "    description new loopback\n",
      "no interface Loopback1\n",
      "\n"
     ]
    }
   ],
   "source": [
    "config = candidate.translate_config(profile=eos_device.profile, replace=running)\n",
    "print(config)"
   ]
  },
  {
   "cell_type": "code",
   "execution_count": 25,
   "metadata": {
    "collapsed": false,
    "deletable": true,
    "editable": true,
    "slideshow": {
     "slide_type": "subslide"
    }
   },
   "outputs": [
    {
     "name": "stdout",
     "output_type": "stream",
     "text": [
      "@@ -19,15 +19,12 @@\n",
      " !\n",
      " interface Port-Channel1\n",
      "    description blah\n",
      "-   mtu 9000\n",
      "    no switchport\n",
      " !\n",
      " interface Port-Channel1.1\n",
      " !\n",
      " interface Ethernet1\n",
      "    description This is a description\n",
      "-   dcbx mode ieee\n",
      "-   channel-group 1 mode active\n",
      " !\n",
      " interface Ethernet2\n",
      "    description so much oc\n",
      "@@ -46,8 +43,8 @@\n",
      "    encapsulation dot1q vlan 2\n",
      "    ip address 192.168.2.1/24\n",
      " !\n",
      "-interface Loopback1\n",
      "-   description a loopback\n",
      "+interface Loopback0\n",
      "+   description new loopback\n",
      " !\n",
      " interface Management1\n",
      "    ip address 10.0.2.15/24\n"
     ]
    }
   ],
   "source": [
    "with eos_device as d:\n",
    "    d.load_merge_candidate(config=config)\n",
    "    print(d.compare_config())\n",
    "    d.discard_config()"
   ]
  },
  {
   "cell_type": "markdown",
   "metadata": {
    "deletable": true,
    "editable": true,
    "slideshow": {
     "slide_type": "subslide"
    }
   },
   "source": [
    "With the replace instead, we got some extra changes as some things are outside our model's control."
   ]
  },
  {
   "cell_type": "markdown",
   "metadata": {
    "deletable": true,
    "editable": true,
    "slideshow": {
     "slide_type": "subslide"
    }
   },
   "source": [
    "### Generate config, merge or replace\n",
    "\n",
    "Which of the three methods to choose is very subjective and it will depend on your operations:\n",
    "\n",
    "* Generating configuration. The drawback of this one is that configuration is only applied, never removed so it's good for places where you don't know or control most of your configuration.\n",
    "* \"Merge\" configuration. This one is good to keep some configuration in a known state while leaving other outside it.\n",
    "* \"Replace\" configuration. This one allows you to fully control the configuration. If you can use this, it means you dictate the fate of your network and not the other way around."
   ]
  },
  {
   "cell_type": "markdown",
   "metadata": {
    "deletable": true,
    "editable": true,
    "slideshow": {
     "slide_type": "slide"
    }
   },
   "source": [
    "# Diffing objects\n",
    "\n",
    "Right now we have seen we can rely on the on-box diff to see the changes to the device. However, you might want to diff the objects directly in certain cases. You can do that with the ``diff`` method. Note that the method will tell you only which changes are to be performed for the models that are known to your binding."
   ]
  },
  {
   "cell_type": "code",
   "execution_count": 26,
   "metadata": {
    "collapsed": false,
    "deletable": true,
    "editable": true,
    "scrolled": false,
    "slideshow": {
     "slide_type": "subslide"
    }
   },
   "outputs": [
    {
     "name": "stdout",
     "output_type": "stream",
     "text": [
      "{\n",
      "    \"interfaces\": {\n",
      "        \"interface\": {\n",
      "            \"both\": {\n",
      "                \"Port-Channel1\": {\n",
      "                    \"config\": {\n",
      "                        \"mtu\": {\n",
      "                            \"first\": \"0\", \n",
      "                            \"second\": \"9000\"\n",
      "                        }\n",
      "                    }\n",
      "                }\n",
      "            }, \n",
      "            \"first_only\": [\n",
      "                \"Loopback0\"\n",
      "            ], \n",
      "            \"second_only\": [\n",
      "                \"Loopback1\"\n",
      "            ]\n",
      "        }\n",
      "    }\n",
      "}\n"
     ]
    }
   ],
   "source": [
    "diff = napalm_yang.utils.diff(candidate, running)\n",
    "pretty_print(diff)"
   ]
  }
 ],
 "metadata": {
  "celltoolbar": "Slideshow",
  "kernelspec": {
   "display_name": "Python 2",
   "language": "python",
   "name": "python2"
  },
  "language_info": {
   "codemirror_mode": {
    "name": "ipython",
    "version": 2
   },
   "file_extension": ".py",
   "mimetype": "text/x-python",
   "name": "python",
   "nbconvert_exporter": "python",
   "pygments_lexer": "ipython2",
   "version": "2.7.12"
  }
 },
 "nbformat": 4,
 "nbformat_minor": 2
}
